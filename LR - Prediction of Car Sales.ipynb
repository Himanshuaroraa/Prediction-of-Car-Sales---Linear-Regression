{
 "cells": [
  {
   "cell_type": "markdown",
   "metadata": {},
   "source": [
    "<center>\n",
    "<h1> Linear Regression Case Study\n",
    "</center>\n",
    "\n",
    "### Steps for Regression Modeling:\n",
    "1. Business problem definition - One of major automobile company would like to design new product which can improve the sales. Inorder to define the product, they want to understand/identify drivers for the sales (what are the factors driving sales) and Predicting sales of different car models given driving factors. \n",
    "2. Convert business problem into statistical problem  sales = F(sales attributes, product features, marketing info etc.)\n",
    "3. Finding the right technique - Since it is predicting value (Regression Problem) problem so we can use OLS as one of the technique. We can also use other techniques like Decision Trees, Ensemble learning, KNN, SVM, ANN etc.\n",
    "4. Data colletion(Y, X) - Identify the sources of information and collect the data\n",
    "5. Consolidate the data - aggregate and consolidate the data at Model level/customer level/store level depends on business problem\n",
    "6. Data preparation for modeling (create data audit report to identify the steps to perform as part of data preparation)\n",
    "    a. missing value treatment\n",
    "    b. outlier treatment\n",
    "    c. dummy variable creation\n",
    "7. Variable creation by using transformation and derived variable creation.\n",
    "8. Basic assumptions (Normality, linearity, no outliers, homoscadasticity, no pattern in residuals, no auto correlation etc)\n",
    "9. Variable reduction techniques (removing multicollinerity with the help of FA/PCA, correlation matrics, VIF)\n",
    "10. Create dev and validation data sets (50:50 if you have more data else 70:30 or 80:20)\n",
    "11. Modeling on dev data set (identify significant variables, model interpretation, check the signs and coefficients, multi-collinierity check, measures of good neess fit, final mathematical equation etc)\n",
    "12. validating on validation data set (check the stability of model, scoring, decile analysis, cross validation etc.)\n",
    "13. Output interpretation and derive insights (understand the limitations of the model and define strategy to implementation)\n",
    "14. convert statistical solution into business solutions (implementation, model monitoring etc)\n"
   ]
  },
  {
   "cell_type": "markdown",
   "metadata": {},
   "source": [
    "### import the packages"
   ]
  },
  {
   "cell_type": "code",
   "execution_count": 1,
   "metadata": {},
   "outputs": [],
   "source": [
    "import numpy as np\n",
    "import pandas as pd\n",
    "\n",
    "import matplotlib.pyplot as plt\n",
    "import seaborn as sns\n",
    "%matplotlib inline\n",
    "\n",
    "import scipy.stats as stats"
   ]
  },
  {
   "cell_type": "code",
   "execution_count": 2,
   "metadata": {},
   "outputs": [],
   "source": [
    "# pip install pandas_profiling\n",
    "import pandas_profiling"
   ]
  },
  {
   "cell_type": "code",
   "execution_count": 6,
   "metadata": {},
   "outputs": [],
   "source": [
    "from sklearn.model_selection import train_test_split\n",
    "\n",
    "import statsmodels.formula.api as smf\n",
    "from sklearn.linear_model import LinearRegression\n",
    "\n",
    "from sklearn.metrics import mean_absolute_error, mean_squared_error, r2_score"
   ]
  },
  {
   "cell_type": "markdown",
   "metadata": {},
   "source": [
    "### create UDFs"
   ]
  },
  {
   "cell_type": "code",
   "execution_count": 31,
   "metadata": {},
   "outputs": [],
   "source": [
    "# Create Data audit Report for continuous variables\n",
    "def continuous_var_summary(x):\n",
    "    return pd.Series([x.dtype, x.nunique(), x.count(), x.isnull().sum(), x.sum(), x.mean(),\n",
    "                      x.median(), x.std(), x.var(), x.min(), x.quantile(0.01), x.quantile(0.05),\n",
    "                          x.quantile(0.10),x.quantile(0.25),x.quantile(0.50),x.quantile(0.75), \n",
    "                              x.quantile(0.90),x.quantile(0.95), x.quantile(0.99),x.max()], \n",
    "            index = ['DataType', 'C', 'N', 'NMISS', 'SUM', 'MEAN','MEDIAN', 'STD', 'VAR', 'MIN', \n",
    "                           'P1', 'P5' ,'P10' ,'P25' ,'P50' ,'P75' ,'P90' ,'P95' ,'P99' ,'MAX'])"
   ]
  },
  {
   "cell_type": "code",
   "execution_count": 34,
   "metadata": {},
   "outputs": [],
   "source": [
    "# Create Data audit Report for categorical variables\n",
    "def categorical_var_summary(x):\n",
    "    Mode = x.value_counts().sort_values(ascending = False)[0:1].reset_index()\n",
    "    return pd.Series([x.nunique(), x.count(), x.isnull().sum(), Mode.iloc[0, 0], Mode.iloc[0, 1], \n",
    "                          round(Mode.iloc[0, 1] * 100/x.count(), 2)], \n",
    "                  index = ['C', 'N', 'NMISS', 'MODE', 'FREQ', 'PERCENT'])"
   ]
  },
  {
   "cell_type": "code",
   "execution_count": 9,
   "metadata": {},
   "outputs": [],
   "source": [
    "# Missing value imputation for categorical and continuous variables\n",
    "def missing_imputation(x, stats = 'mean'):\n",
    "    if (x.dtypes == 'float64') | (x.dtypes == 'int64'):\n",
    "        x = x.fillna(x.mean()) if stats == 'mean' else x.fillna(x.median())\n",
    "    else:\n",
    "        x = x.fillna(x.mode())\n",
    "    return x"
   ]
  },
  {
   "cell_type": "code",
   "execution_count": 12,
   "metadata": {},
   "outputs": [],
   "source": [
    "# An utility function to create dummy variable\n",
    "def create_dummies(df, colname):\n",
    "    \n",
    "    col_dummies = pd.get_dummies(df[colname], prefix = colname, drop_first = True)\n",
    "    \n",
    "    df = pd.concat([df, col_dummies], axis = 1)\n",
    "    df.drop(colname, axis = 1, inplace = True )\n",
    "    return df"
   ]
  },
  {
   "cell_type": "markdown",
   "metadata": {},
   "source": [
    "### import data"
   ]
  },
  {
   "cell_type": "code",
   "execution_count": 13,
   "metadata": {},
   "outputs": [],
   "source": [
    "cars = pd.read_csv('D:/Sampledata/Car_sales.csv')"
   ]
  },
  {
   "cell_type": "markdown",
   "metadata": {},
   "source": [
    "### data inspection"
   ]
  },
  {
   "cell_type": "code",
   "execution_count": 14,
   "metadata": {},
   "outputs": [
    {
     "name": "stdout",
     "output_type": "stream",
     "text": [
      "<class 'pandas.core.frame.DataFrame'>\n",
      "RangeIndex: 157 entries, 0 to 156\n",
      "Data columns (total 16 columns):\n",
      "Manufacturer              157 non-null object\n",
      "Model                     157 non-null object\n",
      "Sales_in_thousands        157 non-null float64\n",
      "four_year_resale_value    121 non-null float64\n",
      "Vehicle_type              157 non-null object\n",
      "Price_in_thousands        155 non-null float64\n",
      "Engine_size               156 non-null float64\n",
      "Horsepower                156 non-null float64\n",
      "Wheelbase                 156 non-null float64\n",
      "Width                     156 non-null float64\n",
      "Length                    156 non-null float64\n",
      "Curb_weight               155 non-null float64\n",
      "Fuel_capacity             156 non-null float64\n",
      "Fuel_efficiency           154 non-null float64\n",
      "Latest_Launch             157 non-null object\n",
      "Power_perf_factor         155 non-null float64\n",
      "dtypes: float64(12), object(4)\n",
      "memory usage: 19.7+ KB\n"
     ]
    }
   ],
   "source": [
    "cars.info()"
   ]
  },
  {
   "cell_type": "code",
   "execution_count": 21,
   "metadata": {},
   "outputs": [
    {
     "data": {
      "text/plain": [
       "array(['Acura', 'Audi', 'BMW', 'Buick', 'Cadillac', 'Chevrolet',\n",
       "       'Chrysler', 'Dodge', 'Ford', 'Honda', 'Hyundai', 'Infiniti',\n",
       "       'Jaguar', 'Jeep', 'Lexus', 'Lincoln', 'Mitsubishi', 'Mercury',\n",
       "       'Mercedes-B', 'Nissan', 'Oldsmobile', 'Plymouth', 'Pontiac',\n",
       "       'Porsche', 'Saab', 'Saturn', 'Subaru', 'Toyota', 'Volkswagen',\n",
       "       'Volvo'], dtype=object)"
      ]
     },
     "execution_count": 21,
     "metadata": {},
     "output_type": "execute_result"
    }
   ],
   "source": [
    "cars.Manufacturer.unique()"
   ]
  },
  {
   "cell_type": "code",
   "execution_count": 10,
   "metadata": {},
   "outputs": [],
   "source": [
    "# profiling using pandas profiling\n",
    "report = pandas_profiling.ProfileReport(cars)"
   ]
  },
  {
   "cell_type": "code",
   "execution_count": 12,
   "metadata": {},
   "outputs": [],
   "source": [
    "# export the file as html\n",
    "# screen the variables to get rid of unuseful variable sin the begining or\n",
    "# make a note of potential variables for model refinement\n",
    "report.to_file(output_file = 'profilereport.html')"
   ]
  },
  {
   "cell_type": "code",
   "execution_count": 13,
   "metadata": {},
   "outputs": [],
   "source": [
    "# type conversion in case variables are not of proper type : Not required in this data"
   ]
  },
  {
   "cell_type": "code",
   "execution_count": 23,
   "metadata": {},
   "outputs": [],
   "source": [
    "# seperate categorical and continuous variables\n",
    "cars_conti_vars = cars.loc[:, (cars.dtypes == 'float64') | (cars.dtypes == 'int64')]\n",
    "cars_cat_vars = cars.loc[:, (cars.dtypes == 'object')]\n",
    "\n",
    "# Simper way of doing:\n",
    "# cars_conti_vars = cars.select_dtypes(include = ['float64', 'int64'])\n",
    "# car_sales_cat = cars.select_dtypes(include = ['object'])"
   ]
  },
  {
   "cell_type": "code",
   "execution_count": 25,
   "metadata": {},
   "outputs": [
    {
     "data": {
      "text/plain": [
       "Index(['Sales_in_thousands', 'four_year_resale_value', 'Price_in_thousands',\n",
       "       'Engine_size', 'Horsepower', 'Wheelbase', 'Width', 'Length',\n",
       "       'Curb_weight', 'Fuel_capacity', 'Fuel_efficiency', 'Power_perf_factor'],\n",
       "      dtype='object')"
      ]
     },
     "execution_count": 25,
     "metadata": {},
     "output_type": "execute_result"
    }
   ],
   "source": [
    "cars_conti_vars.columns"
   ]
  },
  {
   "cell_type": "code",
   "execution_count": 26,
   "metadata": {},
   "outputs": [
    {
     "data": {
      "text/plain": [
       "Index(['Manufacturer', 'Model', 'Vehicle_type', 'Latest_Launch'], dtype='object')"
      ]
     },
     "execution_count": 26,
     "metadata": {},
     "output_type": "execute_result"
    }
   ],
   "source": [
    "cars_cat_vars.columns"
   ]
  },
  {
   "cell_type": "code",
   "execution_count": 32,
   "metadata": {},
   "outputs": [
    {
     "data": {
      "text/html": [
       "<div>\n",
       "<style scoped>\n",
       "    .dataframe tbody tr th:only-of-type {\n",
       "        vertical-align: middle;\n",
       "    }\n",
       "\n",
       "    .dataframe tbody tr th {\n",
       "        vertical-align: top;\n",
       "    }\n",
       "\n",
       "    .dataframe thead th {\n",
       "        text-align: right;\n",
       "    }\n",
       "</style>\n",
       "<table border=\"1\" class=\"dataframe\">\n",
       "  <thead>\n",
       "    <tr style=\"text-align: right;\">\n",
       "      <th></th>\n",
       "      <th>Sales_in_thousands</th>\n",
       "      <th>four_year_resale_value</th>\n",
       "      <th>Price_in_thousands</th>\n",
       "      <th>Engine_size</th>\n",
       "      <th>Horsepower</th>\n",
       "      <th>Wheelbase</th>\n",
       "      <th>Width</th>\n",
       "      <th>Length</th>\n",
       "      <th>Curb_weight</th>\n",
       "      <th>Fuel_capacity</th>\n",
       "      <th>Fuel_efficiency</th>\n",
       "      <th>Power_perf_factor</th>\n",
       "    </tr>\n",
       "  </thead>\n",
       "  <tbody>\n",
       "    <tr>\n",
       "      <th>DataType</th>\n",
       "      <td>float64</td>\n",
       "      <td>float64</td>\n",
       "      <td>float64</td>\n",
       "      <td>float64</td>\n",
       "      <td>float64</td>\n",
       "      <td>float64</td>\n",
       "      <td>float64</td>\n",
       "      <td>float64</td>\n",
       "      <td>float64</td>\n",
       "      <td>float64</td>\n",
       "      <td>float64</td>\n",
       "      <td>float64</td>\n",
       "    </tr>\n",
       "    <tr>\n",
       "      <th>C</th>\n",
       "      <td>157</td>\n",
       "      <td>117</td>\n",
       "      <td>152</td>\n",
       "      <td>31</td>\n",
       "      <td>66</td>\n",
       "      <td>88</td>\n",
       "      <td>78</td>\n",
       "      <td>127</td>\n",
       "      <td>147</td>\n",
       "      <td>55</td>\n",
       "      <td>20</td>\n",
       "      <td>154</td>\n",
       "    </tr>\n",
       "    <tr>\n",
       "      <th>N</th>\n",
       "      <td>157</td>\n",
       "      <td>121</td>\n",
       "      <td>155</td>\n",
       "      <td>156</td>\n",
       "      <td>156</td>\n",
       "      <td>156</td>\n",
       "      <td>156</td>\n",
       "      <td>156</td>\n",
       "      <td>155</td>\n",
       "      <td>156</td>\n",
       "      <td>154</td>\n",
       "      <td>155</td>\n",
       "    </tr>\n",
       "    <tr>\n",
       "      <th>NMISS</th>\n",
       "      <td>0</td>\n",
       "      <td>36</td>\n",
       "      <td>2</td>\n",
       "      <td>1</td>\n",
       "      <td>1</td>\n",
       "      <td>1</td>\n",
       "      <td>1</td>\n",
       "      <td>1</td>\n",
       "      <td>2</td>\n",
       "      <td>1</td>\n",
       "      <td>3</td>\n",
       "      <td>2</td>\n",
       "    </tr>\n",
       "    <tr>\n",
       "      <th>SUM</th>\n",
       "      <td>8320.7</td>\n",
       "      <td>2186.83</td>\n",
       "      <td>4245.57</td>\n",
       "      <td>477.5</td>\n",
       "      <td>29008</td>\n",
       "      <td>16768</td>\n",
       "      <td>11099.4</td>\n",
       "      <td>29225.6</td>\n",
       "      <td>523.594</td>\n",
       "      <td>2800.5</td>\n",
       "      <td>3672</td>\n",
       "      <td>11941.8</td>\n",
       "    </tr>\n",
       "    <tr>\n",
       "      <th>MEAN</th>\n",
       "      <td>52.9981</td>\n",
       "      <td>18.073</td>\n",
       "      <td>27.3908</td>\n",
       "      <td>3.0609</td>\n",
       "      <td>185.949</td>\n",
       "      <td>107.487</td>\n",
       "      <td>71.15</td>\n",
       "      <td>187.344</td>\n",
       "      <td>3.37803</td>\n",
       "      <td>17.9519</td>\n",
       "      <td>23.8442</td>\n",
       "      <td>77.0436</td>\n",
       "    </tr>\n",
       "    <tr>\n",
       "      <th>MEDIAN</th>\n",
       "      <td>29.45</td>\n",
       "      <td>14.18</td>\n",
       "      <td>22.799</td>\n",
       "      <td>3</td>\n",
       "      <td>177.5</td>\n",
       "      <td>107</td>\n",
       "      <td>70.55</td>\n",
       "      <td>187.9</td>\n",
       "      <td>3.342</td>\n",
       "      <td>17.2</td>\n",
       "      <td>24</td>\n",
       "      <td>72.0309</td>\n",
       "    </tr>\n",
       "    <tr>\n",
       "      <th>STD</th>\n",
       "      <td>68.0294</td>\n",
       "      <td>11.4534</td>\n",
       "      <td>14.3517</td>\n",
       "      <td>1.04465</td>\n",
       "      <td>56.7003</td>\n",
       "      <td>7.6413</td>\n",
       "      <td>3.45187</td>\n",
       "      <td>13.4318</td>\n",
       "      <td>0.630502</td>\n",
       "      <td>3.88792</td>\n",
       "      <td>4.28271</td>\n",
       "      <td>25.1427</td>\n",
       "    </tr>\n",
       "    <tr>\n",
       "      <th>VAR</th>\n",
       "      <td>4628</td>\n",
       "      <td>131.18</td>\n",
       "      <td>205.97</td>\n",
       "      <td>1.0913</td>\n",
       "      <td>3214.93</td>\n",
       "      <td>58.3895</td>\n",
       "      <td>11.9154</td>\n",
       "      <td>180.412</td>\n",
       "      <td>0.397532</td>\n",
       "      <td>15.1159</td>\n",
       "      <td>18.3416</td>\n",
       "      <td>632.154</td>\n",
       "    </tr>\n",
       "    <tr>\n",
       "      <th>MIN</th>\n",
       "      <td>0.11</td>\n",
       "      <td>5.16</td>\n",
       "      <td>9.235</td>\n",
       "      <td>1</td>\n",
       "      <td>55</td>\n",
       "      <td>92.6</td>\n",
       "      <td>62.6</td>\n",
       "      <td>149.4</td>\n",
       "      <td>1.895</td>\n",
       "      <td>10.3</td>\n",
       "      <td>15</td>\n",
       "      <td>23.2763</td>\n",
       "    </tr>\n",
       "    <tr>\n",
       "      <th>P1</th>\n",
       "      <td>0.93728</td>\n",
       "      <td>6.173</td>\n",
       "      <td>10.2314</td>\n",
       "      <td>1.555</td>\n",
       "      <td>96.4</td>\n",
       "      <td>92.875</td>\n",
       "      <td>66.085</td>\n",
       "      <td>154.915</td>\n",
       "      <td>2.2454</td>\n",
       "      <td>11.9</td>\n",
       "      <td>15</td>\n",
       "      <td>38.4619</td>\n",
       "    </tr>\n",
       "    <tr>\n",
       "      <th>P5</th>\n",
       "      <td>1.8708</td>\n",
       "      <td>7.85</td>\n",
       "      <td>12.469</td>\n",
       "      <td>1.8</td>\n",
       "      <td>114.5</td>\n",
       "      <td>95.875</td>\n",
       "      <td>66.5</td>\n",
       "      <td>163.675</td>\n",
       "      <td>2.4235</td>\n",
       "      <td>12.5</td>\n",
       "      <td>16.65</td>\n",
       "      <td>46.204</td>\n",
       "    </tr>\n",
       "    <tr>\n",
       "      <th>P10</th>\n",
       "      <td>5.4536</td>\n",
       "      <td>9.125</td>\n",
       "      <td>13.9708</td>\n",
       "      <td>1.95</td>\n",
       "      <td>120</td>\n",
       "      <td>98.65</td>\n",
       "      <td>66.9</td>\n",
       "      <td>173</td>\n",
       "      <td>2.6062</td>\n",
       "      <td>13.2</td>\n",
       "      <td>18.3</td>\n",
       "      <td>48.4477</td>\n",
       "    </tr>\n",
       "    <tr>\n",
       "      <th>P25</th>\n",
       "      <td>14.114</td>\n",
       "      <td>11.26</td>\n",
       "      <td>18.0175</td>\n",
       "      <td>2.3</td>\n",
       "      <td>149.5</td>\n",
       "      <td>103</td>\n",
       "      <td>68.4</td>\n",
       "      <td>177.575</td>\n",
       "      <td>2.971</td>\n",
       "      <td>15.8</td>\n",
       "      <td>21</td>\n",
       "      <td>60.4077</td>\n",
       "    </tr>\n",
       "    <tr>\n",
       "      <th>P50</th>\n",
       "      <td>29.45</td>\n",
       "      <td>14.18</td>\n",
       "      <td>22.799</td>\n",
       "      <td>3</td>\n",
       "      <td>177.5</td>\n",
       "      <td>107</td>\n",
       "      <td>70.55</td>\n",
       "      <td>187.9</td>\n",
       "      <td>3.342</td>\n",
       "      <td>17.2</td>\n",
       "      <td>24</td>\n",
       "      <td>72.0309</td>\n",
       "    </tr>\n",
       "    <tr>\n",
       "      <th>P75</th>\n",
       "      <td>67.956</td>\n",
       "      <td>19.875</td>\n",
       "      <td>31.9475</td>\n",
       "      <td>3.575</td>\n",
       "      <td>215</td>\n",
       "      <td>112.2</td>\n",
       "      <td>73.425</td>\n",
       "      <td>196.125</td>\n",
       "      <td>3.7995</td>\n",
       "      <td>19.575</td>\n",
       "      <td>26</td>\n",
       "      <td>89.4149</td>\n",
       "    </tr>\n",
       "    <tr>\n",
       "      <th>P90</th>\n",
       "      <td>127.642</td>\n",
       "      <td>32.075</td>\n",
       "      <td>44.017</td>\n",
       "      <td>4.6</td>\n",
       "      <td>254</td>\n",
       "      <td>115.5</td>\n",
       "      <td>76.2</td>\n",
       "      <td>203.4</td>\n",
       "      <td>4.1186</td>\n",
       "      <td>23.2</td>\n",
       "      <td>28.7</td>\n",
       "      <td>108.499</td>\n",
       "    </tr>\n",
       "    <tr>\n",
       "      <th>P95</th>\n",
       "      <td>185.336</td>\n",
       "      <td>41.25</td>\n",
       "      <td>55.835</td>\n",
       "      <td>4.775</td>\n",
       "      <td>300</td>\n",
       "      <td>119.25</td>\n",
       "      <td>78.2</td>\n",
       "      <td>208.5</td>\n",
       "      <td>4.3891</td>\n",
       "      <td>25.4</td>\n",
       "      <td>31</td>\n",
       "      <td>125.092</td>\n",
       "    </tr>\n",
       "    <tr>\n",
       "      <th>P99</th>\n",
       "      <td>260.645</td>\n",
       "      <td>60.22</td>\n",
       "      <td>78.4798</td>\n",
       "      <td>5.7</td>\n",
       "      <td>325.75</td>\n",
       "      <td>134.375</td>\n",
       "      <td>79.19</td>\n",
       "      <td>219.305</td>\n",
       "      <td>5.39668</td>\n",
       "      <td>30.9</td>\n",
       "      <td>33</td>\n",
       "      <td>141.119</td>\n",
       "    </tr>\n",
       "    <tr>\n",
       "      <th>MAX</th>\n",
       "      <td>540.561</td>\n",
       "      <td>67.55</td>\n",
       "      <td>85.5</td>\n",
       "      <td>8</td>\n",
       "      <td>450</td>\n",
       "      <td>138.7</td>\n",
       "      <td>79.9</td>\n",
       "      <td>224.5</td>\n",
       "      <td>5.572</td>\n",
       "      <td>32</td>\n",
       "      <td>45</td>\n",
       "      <td>188.144</td>\n",
       "    </tr>\n",
       "  </tbody>\n",
       "</table>\n",
       "</div>"
      ],
      "text/plain": [
       "         Sales_in_thousands four_year_resale_value Price_in_thousands  \\\n",
       "DataType            float64                float64            float64   \n",
       "C                       157                    117                152   \n",
       "N                       157                    121                155   \n",
       "NMISS                     0                     36                  2   \n",
       "SUM                  8320.7                2186.83            4245.57   \n",
       "MEAN                52.9981                 18.073            27.3908   \n",
       "MEDIAN                29.45                  14.18             22.799   \n",
       "STD                 68.0294                11.4534            14.3517   \n",
       "VAR                    4628                 131.18             205.97   \n",
       "MIN                    0.11                   5.16              9.235   \n",
       "P1                  0.93728                  6.173            10.2314   \n",
       "P5                   1.8708                   7.85             12.469   \n",
       "P10                  5.4536                  9.125            13.9708   \n",
       "P25                  14.114                  11.26            18.0175   \n",
       "P50                   29.45                  14.18             22.799   \n",
       "P75                  67.956                 19.875            31.9475   \n",
       "P90                 127.642                 32.075             44.017   \n",
       "P95                 185.336                  41.25             55.835   \n",
       "P99                 260.645                  60.22            78.4798   \n",
       "MAX                 540.561                  67.55               85.5   \n",
       "\n",
       "         Engine_size Horsepower Wheelbase    Width   Length Curb_weight  \\\n",
       "DataType     float64    float64   float64  float64  float64     float64   \n",
       "C                 31         66        88       78      127         147   \n",
       "N                156        156       156      156      156         155   \n",
       "NMISS              1          1         1        1        1           2   \n",
       "SUM            477.5      29008     16768  11099.4  29225.6     523.594   \n",
       "MEAN          3.0609    185.949   107.487    71.15  187.344     3.37803   \n",
       "MEDIAN             3      177.5       107    70.55    187.9       3.342   \n",
       "STD          1.04465    56.7003    7.6413  3.45187  13.4318    0.630502   \n",
       "VAR           1.0913    3214.93   58.3895  11.9154  180.412    0.397532   \n",
       "MIN                1         55      92.6     62.6    149.4       1.895   \n",
       "P1             1.555       96.4    92.875   66.085  154.915      2.2454   \n",
       "P5               1.8      114.5    95.875     66.5  163.675      2.4235   \n",
       "P10             1.95        120     98.65     66.9      173      2.6062   \n",
       "P25              2.3      149.5       103     68.4  177.575       2.971   \n",
       "P50                3      177.5       107    70.55    187.9       3.342   \n",
       "P75            3.575        215     112.2   73.425  196.125      3.7995   \n",
       "P90              4.6        254     115.5     76.2    203.4      4.1186   \n",
       "P95            4.775        300    119.25     78.2    208.5      4.3891   \n",
       "P99              5.7     325.75   134.375    79.19  219.305     5.39668   \n",
       "MAX                8        450     138.7     79.9    224.5       5.572   \n",
       "\n",
       "         Fuel_capacity Fuel_efficiency Power_perf_factor  \n",
       "DataType       float64         float64           float64  \n",
       "C                   55              20               154  \n",
       "N                  156             154               155  \n",
       "NMISS                1               3                 2  \n",
       "SUM             2800.5            3672           11941.8  \n",
       "MEAN           17.9519         23.8442           77.0436  \n",
       "MEDIAN            17.2              24           72.0309  \n",
       "STD            3.88792         4.28271           25.1427  \n",
       "VAR            15.1159         18.3416           632.154  \n",
       "MIN               10.3              15           23.2763  \n",
       "P1                11.9              15           38.4619  \n",
       "P5                12.5           16.65            46.204  \n",
       "P10               13.2            18.3           48.4477  \n",
       "P25               15.8              21           60.4077  \n",
       "P50               17.2              24           72.0309  \n",
       "P75             19.575              26           89.4149  \n",
       "P90               23.2            28.7           108.499  \n",
       "P95               25.4              31           125.092  \n",
       "P99               30.9              33           141.119  \n",
       "MAX                 32              45           188.144  "
      ]
     },
     "execution_count": 32,
     "metadata": {},
     "output_type": "execute_result"
    }
   ],
   "source": [
    "# alternate of .describe() for continuous variables\n",
    "cars_conti_vars.apply(continuous_var_summary).round(1)"
   ]
  },
  {
   "cell_type": "code",
   "execution_count": 35,
   "metadata": {},
   "outputs": [
    {
     "data": {
      "text/html": [
       "<div>\n",
       "<style scoped>\n",
       "    .dataframe tbody tr th:only-of-type {\n",
       "        vertical-align: middle;\n",
       "    }\n",
       "\n",
       "    .dataframe tbody tr th {\n",
       "        vertical-align: top;\n",
       "    }\n",
       "\n",
       "    .dataframe thead th {\n",
       "        text-align: right;\n",
       "    }\n",
       "</style>\n",
       "<table border=\"1\" class=\"dataframe\">\n",
       "  <thead>\n",
       "    <tr style=\"text-align: right;\">\n",
       "      <th></th>\n",
       "      <th>Manufacturer</th>\n",
       "      <th>Model</th>\n",
       "      <th>Vehicle_type</th>\n",
       "      <th>Latest_Launch</th>\n",
       "    </tr>\n",
       "  </thead>\n",
       "  <tbody>\n",
       "    <tr>\n",
       "      <th>C</th>\n",
       "      <td>30</td>\n",
       "      <td>156</td>\n",
       "      <td>2</td>\n",
       "      <td>130</td>\n",
       "    </tr>\n",
       "    <tr>\n",
       "      <th>N</th>\n",
       "      <td>157</td>\n",
       "      <td>157</td>\n",
       "      <td>157</td>\n",
       "      <td>157</td>\n",
       "    </tr>\n",
       "    <tr>\n",
       "      <th>NMISS</th>\n",
       "      <td>0</td>\n",
       "      <td>0</td>\n",
       "      <td>0</td>\n",
       "      <td>0</td>\n",
       "    </tr>\n",
       "    <tr>\n",
       "      <th>MODE</th>\n",
       "      <td>Ford</td>\n",
       "      <td>Neon</td>\n",
       "      <td>Passenger</td>\n",
       "      <td>11/14/2011</td>\n",
       "    </tr>\n",
       "    <tr>\n",
       "      <th>FREQ</th>\n",
       "      <td>11</td>\n",
       "      <td>2</td>\n",
       "      <td>116</td>\n",
       "      <td>2</td>\n",
       "    </tr>\n",
       "    <tr>\n",
       "      <th>PERCENT</th>\n",
       "      <td>7.01</td>\n",
       "      <td>1.27</td>\n",
       "      <td>73.89</td>\n",
       "      <td>1.27</td>\n",
       "    </tr>\n",
       "  </tbody>\n",
       "</table>\n",
       "</div>"
      ],
      "text/plain": [
       "        Manufacturer Model Vehicle_type Latest_Launch\n",
       "C                 30   156            2           130\n",
       "N                157   157          157           157\n",
       "NMISS              0     0            0             0\n",
       "MODE            Ford  Neon    Passenger    11/14/2011\n",
       "FREQ              11     2          116             2\n",
       "PERCENT         7.01  1.27        73.89          1.27"
      ]
     },
     "execution_count": 35,
     "metadata": {},
     "output_type": "execute_result"
    }
   ],
   "source": [
    "# alternate of .describe() for categorical variables\n",
    "cars_cat_vars.apply(categorical_var_summary)"
   ]
  },
  {
   "cell_type": "markdown",
   "metadata": {},
   "source": [
    "### outlier treatment"
   ]
  },
  {
   "cell_type": "code",
   "execution_count": 36,
   "metadata": {},
   "outputs": [],
   "source": [
    "cars_conti_vars = cars_conti_vars.apply(lambda x: x.clip(lower = x.quantile(0.01), \n",
    "                                                         upper = x.quantile(0.99)))"
   ]
  },
  {
   "cell_type": "code",
   "execution_count": 37,
   "metadata": {},
   "outputs": [
    {
     "data": {
      "text/html": [
       "<div>\n",
       "<style scoped>\n",
       "    .dataframe tbody tr th:only-of-type {\n",
       "        vertical-align: middle;\n",
       "    }\n",
       "\n",
       "    .dataframe tbody tr th {\n",
       "        vertical-align: top;\n",
       "    }\n",
       "\n",
       "    .dataframe thead th {\n",
       "        text-align: right;\n",
       "    }\n",
       "</style>\n",
       "<table border=\"1\" class=\"dataframe\">\n",
       "  <thead>\n",
       "    <tr style=\"text-align: right;\">\n",
       "      <th></th>\n",
       "      <th>Sales_in_thousands</th>\n",
       "      <th>four_year_resale_value</th>\n",
       "      <th>Price_in_thousands</th>\n",
       "      <th>Engine_size</th>\n",
       "      <th>Horsepower</th>\n",
       "      <th>Wheelbase</th>\n",
       "      <th>Width</th>\n",
       "      <th>Length</th>\n",
       "      <th>Curb_weight</th>\n",
       "      <th>Fuel_capacity</th>\n",
       "      <th>Fuel_efficiency</th>\n",
       "      <th>Power_perf_factor</th>\n",
       "    </tr>\n",
       "  </thead>\n",
       "  <tbody>\n",
       "    <tr>\n",
       "      <th>DataType</th>\n",
       "      <td>float64</td>\n",
       "      <td>float64</td>\n",
       "      <td>float64</td>\n",
       "      <td>float64</td>\n",
       "      <td>float64</td>\n",
       "      <td>float64</td>\n",
       "      <td>float64</td>\n",
       "      <td>float64</td>\n",
       "      <td>float64</td>\n",
       "      <td>float64</td>\n",
       "      <td>float64</td>\n",
       "      <td>float64</td>\n",
       "    </tr>\n",
       "    <tr>\n",
       "      <th>C</th>\n",
       "      <td>155</td>\n",
       "      <td>115</td>\n",
       "      <td>150</td>\n",
       "      <td>29</td>\n",
       "      <td>64</td>\n",
       "      <td>87</td>\n",
       "      <td>76</td>\n",
       "      <td>125</td>\n",
       "      <td>145</td>\n",
       "      <td>54</td>\n",
       "      <td>19</td>\n",
       "      <td>152</td>\n",
       "    </tr>\n",
       "    <tr>\n",
       "      <th>N</th>\n",
       "      <td>157</td>\n",
       "      <td>121</td>\n",
       "      <td>155</td>\n",
       "      <td>156</td>\n",
       "      <td>156</td>\n",
       "      <td>156</td>\n",
       "      <td>156</td>\n",
       "      <td>156</td>\n",
       "      <td>155</td>\n",
       "      <td>156</td>\n",
       "      <td>154</td>\n",
       "      <td>155</td>\n",
       "    </tr>\n",
       "    <tr>\n",
       "      <th>NMISS</th>\n",
       "      <td>0</td>\n",
       "      <td>36</td>\n",
       "      <td>2</td>\n",
       "      <td>1</td>\n",
       "      <td>1</td>\n",
       "      <td>1</td>\n",
       "      <td>1</td>\n",
       "      <td>1</td>\n",
       "      <td>2</td>\n",
       "      <td>1</td>\n",
       "      <td>3</td>\n",
       "      <td>2</td>\n",
       "    </tr>\n",
       "    <tr>\n",
       "      <th>SUM</th>\n",
       "      <td>8025.53</td>\n",
       "      <td>2180.42</td>\n",
       "      <td>4235.96</td>\n",
       "      <td>475.81</td>\n",
       "      <td>28910.3</td>\n",
       "      <td>16760.1</td>\n",
       "      <td>11102.5</td>\n",
       "      <td>29223.9</td>\n",
       "      <td>523.77</td>\n",
       "      <td>2799.9</td>\n",
       "      <td>3660</td>\n",
       "      <td>11911.7</td>\n",
       "    </tr>\n",
       "    <tr>\n",
       "      <th>MEAN</th>\n",
       "      <td>51.118</td>\n",
       "      <td>18.02</td>\n",
       "      <td>27.3287</td>\n",
       "      <td>3.05006</td>\n",
       "      <td>185.322</td>\n",
       "      <td>107.437</td>\n",
       "      <td>71.1696</td>\n",
       "      <td>187.333</td>\n",
       "      <td>3.37916</td>\n",
       "      <td>17.9481</td>\n",
       "      <td>23.7662</td>\n",
       "      <td>76.8496</td>\n",
       "    </tr>\n",
       "    <tr>\n",
       "      <th>MEDIAN</th>\n",
       "      <td>29.45</td>\n",
       "      <td>14.18</td>\n",
       "      <td>22.799</td>\n",
       "      <td>3</td>\n",
       "      <td>177.5</td>\n",
       "      <td>107</td>\n",
       "      <td>70.55</td>\n",
       "      <td>187.9</td>\n",
       "      <td>3.342</td>\n",
       "      <td>17.2</td>\n",
       "      <td>24</td>\n",
       "      <td>72.0309</td>\n",
       "    </tr>\n",
       "    <tr>\n",
       "      <th>STD</th>\n",
       "      <td>57.7227</td>\n",
       "      <td>11.1813</td>\n",
       "      <td>14.064</td>\n",
       "      <td>0.982279</td>\n",
       "      <td>52.8165</td>\n",
       "      <td>7.4243</td>\n",
       "      <td>3.39034</td>\n",
       "      <td>13.1204</td>\n",
       "      <td>0.621764</td>\n",
       "      <td>3.81985</td>\n",
       "      <td>3.99476</td>\n",
       "      <td>23.845</td>\n",
       "    </tr>\n",
       "    <tr>\n",
       "      <th>VAR</th>\n",
       "      <td>3331.91</td>\n",
       "      <td>125.022</td>\n",
       "      <td>197.795</td>\n",
       "      <td>0.964871</td>\n",
       "      <td>2789.58</td>\n",
       "      <td>55.1202</td>\n",
       "      <td>11.4944</td>\n",
       "      <td>172.144</td>\n",
       "      <td>0.386591</td>\n",
       "      <td>14.5913</td>\n",
       "      <td>15.9581</td>\n",
       "      <td>568.582</td>\n",
       "    </tr>\n",
       "    <tr>\n",
       "      <th>MIN</th>\n",
       "      <td>0.93728</td>\n",
       "      <td>6.173</td>\n",
       "      <td>10.2314</td>\n",
       "      <td>1.555</td>\n",
       "      <td>96.4</td>\n",
       "      <td>92.875</td>\n",
       "      <td>66.085</td>\n",
       "      <td>154.915</td>\n",
       "      <td>2.2454</td>\n",
       "      <td>11.9</td>\n",
       "      <td>15</td>\n",
       "      <td>38.4619</td>\n",
       "    </tr>\n",
       "    <tr>\n",
       "      <th>P1</th>\n",
       "      <td>0.946643</td>\n",
       "      <td>6.4234</td>\n",
       "      <td>10.4764</td>\n",
       "      <td>1.57975</td>\n",
       "      <td>98.38</td>\n",
       "      <td>92.9988</td>\n",
       "      <td>66.2583</td>\n",
       "      <td>156.227</td>\n",
       "      <td>2.24788</td>\n",
       "      <td>11.9</td>\n",
       "      <td>15</td>\n",
       "      <td>39.2852</td>\n",
       "    </tr>\n",
       "    <tr>\n",
       "      <th>P5</th>\n",
       "      <td>1.8708</td>\n",
       "      <td>7.85</td>\n",
       "      <td>12.469</td>\n",
       "      <td>1.8</td>\n",
       "      <td>114.5</td>\n",
       "      <td>95.875</td>\n",
       "      <td>66.5</td>\n",
       "      <td>163.675</td>\n",
       "      <td>2.4235</td>\n",
       "      <td>12.5</td>\n",
       "      <td>16.65</td>\n",
       "      <td>46.204</td>\n",
       "    </tr>\n",
       "    <tr>\n",
       "      <th>P10</th>\n",
       "      <td>5.4536</td>\n",
       "      <td>9.125</td>\n",
       "      <td>13.9708</td>\n",
       "      <td>1.95</td>\n",
       "      <td>120</td>\n",
       "      <td>98.65</td>\n",
       "      <td>66.9</td>\n",
       "      <td>173</td>\n",
       "      <td>2.6062</td>\n",
       "      <td>13.2</td>\n",
       "      <td>18.3</td>\n",
       "      <td>48.4477</td>\n",
       "    </tr>\n",
       "    <tr>\n",
       "      <th>P25</th>\n",
       "      <td>14.114</td>\n",
       "      <td>11.26</td>\n",
       "      <td>18.0175</td>\n",
       "      <td>2.3</td>\n",
       "      <td>149.5</td>\n",
       "      <td>103</td>\n",
       "      <td>68.4</td>\n",
       "      <td>177.575</td>\n",
       "      <td>2.971</td>\n",
       "      <td>15.8</td>\n",
       "      <td>21</td>\n",
       "      <td>60.4077</td>\n",
       "    </tr>\n",
       "    <tr>\n",
       "      <th>P50</th>\n",
       "      <td>29.45</td>\n",
       "      <td>14.18</td>\n",
       "      <td>22.799</td>\n",
       "      <td>3</td>\n",
       "      <td>177.5</td>\n",
       "      <td>107</td>\n",
       "      <td>70.55</td>\n",
       "      <td>187.9</td>\n",
       "      <td>3.342</td>\n",
       "      <td>17.2</td>\n",
       "      <td>24</td>\n",
       "      <td>72.0309</td>\n",
       "    </tr>\n",
       "    <tr>\n",
       "      <th>P75</th>\n",
       "      <td>67.956</td>\n",
       "      <td>19.875</td>\n",
       "      <td>31.9475</td>\n",
       "      <td>3.575</td>\n",
       "      <td>215</td>\n",
       "      <td>112.2</td>\n",
       "      <td>73.425</td>\n",
       "      <td>196.125</td>\n",
       "      <td>3.7995</td>\n",
       "      <td>19.575</td>\n",
       "      <td>26</td>\n",
       "      <td>89.4149</td>\n",
       "    </tr>\n",
       "    <tr>\n",
       "      <th>P90</th>\n",
       "      <td>127.642</td>\n",
       "      <td>32.075</td>\n",
       "      <td>44.017</td>\n",
       "      <td>4.6</td>\n",
       "      <td>254</td>\n",
       "      <td>115.5</td>\n",
       "      <td>76.2</td>\n",
       "      <td>203.4</td>\n",
       "      <td>4.1186</td>\n",
       "      <td>23.2</td>\n",
       "      <td>28.7</td>\n",
       "      <td>108.499</td>\n",
       "    </tr>\n",
       "    <tr>\n",
       "      <th>P95</th>\n",
       "      <td>185.336</td>\n",
       "      <td>41.25</td>\n",
       "      <td>55.835</td>\n",
       "      <td>4.775</td>\n",
       "      <td>300</td>\n",
       "      <td>119.25</td>\n",
       "      <td>78.2</td>\n",
       "      <td>208.5</td>\n",
       "      <td>4.3891</td>\n",
       "      <td>25.4</td>\n",
       "      <td>31</td>\n",
       "      <td>125.092</td>\n",
       "    </tr>\n",
       "    <tr>\n",
       "      <th>P99</th>\n",
       "      <td>253.561</td>\n",
       "      <td>59.896</td>\n",
       "      <td>76.5845</td>\n",
       "      <td>5.7</td>\n",
       "      <td>317.087</td>\n",
       "      <td>132.519</td>\n",
       "      <td>79.1405</td>\n",
       "      <td>217.102</td>\n",
       "      <td>5.39469</td>\n",
       "      <td>30.405</td>\n",
       "      <td>33</td>\n",
       "      <td>141.109</td>\n",
       "    </tr>\n",
       "    <tr>\n",
       "      <th>MAX</th>\n",
       "      <td>260.645</td>\n",
       "      <td>60.22</td>\n",
       "      <td>78.4798</td>\n",
       "      <td>5.7</td>\n",
       "      <td>325.75</td>\n",
       "      <td>134.375</td>\n",
       "      <td>79.19</td>\n",
       "      <td>219.305</td>\n",
       "      <td>5.39668</td>\n",
       "      <td>30.9</td>\n",
       "      <td>33</td>\n",
       "      <td>141.119</td>\n",
       "    </tr>\n",
       "  </tbody>\n",
       "</table>\n",
       "</div>"
      ],
      "text/plain": [
       "         Sales_in_thousands four_year_resale_value Price_in_thousands  \\\n",
       "DataType            float64                float64            float64   \n",
       "C                       155                    115                150   \n",
       "N                       157                    121                155   \n",
       "NMISS                     0                     36                  2   \n",
       "SUM                 8025.53                2180.42            4235.96   \n",
       "MEAN                 51.118                  18.02            27.3287   \n",
       "MEDIAN                29.45                  14.18             22.799   \n",
       "STD                 57.7227                11.1813             14.064   \n",
       "VAR                 3331.91                125.022            197.795   \n",
       "MIN                 0.93728                  6.173            10.2314   \n",
       "P1                 0.946643                 6.4234            10.4764   \n",
       "P5                   1.8708                   7.85             12.469   \n",
       "P10                  5.4536                  9.125            13.9708   \n",
       "P25                  14.114                  11.26            18.0175   \n",
       "P50                   29.45                  14.18             22.799   \n",
       "P75                  67.956                 19.875            31.9475   \n",
       "P90                 127.642                 32.075             44.017   \n",
       "P95                 185.336                  41.25             55.835   \n",
       "P99                 253.561                 59.896            76.5845   \n",
       "MAX                 260.645                  60.22            78.4798   \n",
       "\n",
       "         Engine_size Horsepower Wheelbase    Width   Length Curb_weight  \\\n",
       "DataType     float64    float64   float64  float64  float64     float64   \n",
       "C                 29         64        87       76      125         145   \n",
       "N                156        156       156      156      156         155   \n",
       "NMISS              1          1         1        1        1           2   \n",
       "SUM           475.81    28910.3   16760.1  11102.5  29223.9      523.77   \n",
       "MEAN         3.05006    185.322   107.437  71.1696  187.333     3.37916   \n",
       "MEDIAN             3      177.5       107    70.55    187.9       3.342   \n",
       "STD         0.982279    52.8165    7.4243  3.39034  13.1204    0.621764   \n",
       "VAR         0.964871    2789.58   55.1202  11.4944  172.144    0.386591   \n",
       "MIN            1.555       96.4    92.875   66.085  154.915      2.2454   \n",
       "P1           1.57975      98.38   92.9988  66.2583  156.227     2.24788   \n",
       "P5               1.8      114.5    95.875     66.5  163.675      2.4235   \n",
       "P10             1.95        120     98.65     66.9      173      2.6062   \n",
       "P25              2.3      149.5       103     68.4  177.575       2.971   \n",
       "P50                3      177.5       107    70.55    187.9       3.342   \n",
       "P75            3.575        215     112.2   73.425  196.125      3.7995   \n",
       "P90              4.6        254     115.5     76.2    203.4      4.1186   \n",
       "P95            4.775        300    119.25     78.2    208.5      4.3891   \n",
       "P99              5.7    317.087   132.519  79.1405  217.102     5.39469   \n",
       "MAX              5.7     325.75   134.375    79.19  219.305     5.39668   \n",
       "\n",
       "         Fuel_capacity Fuel_efficiency Power_perf_factor  \n",
       "DataType       float64         float64           float64  \n",
       "C                   54              19               152  \n",
       "N                  156             154               155  \n",
       "NMISS                1               3                 2  \n",
       "SUM             2799.9            3660           11911.7  \n",
       "MEAN           17.9481         23.7662           76.8496  \n",
       "MEDIAN            17.2              24           72.0309  \n",
       "STD            3.81985         3.99476            23.845  \n",
       "VAR            14.5913         15.9581           568.582  \n",
       "MIN               11.9              15           38.4619  \n",
       "P1                11.9              15           39.2852  \n",
       "P5                12.5           16.65            46.204  \n",
       "P10               13.2            18.3           48.4477  \n",
       "P25               15.8              21           60.4077  \n",
       "P50               17.2              24           72.0309  \n",
       "P75             19.575              26           89.4149  \n",
       "P90               23.2            28.7           108.499  \n",
       "P95               25.4              31           125.092  \n",
       "P99             30.405              33           141.109  \n",
       "MAX               30.9              33           141.119  "
      ]
     },
     "execution_count": 37,
     "metadata": {},
     "output_type": "execute_result"
    }
   ],
   "source": [
    "cars_conti_vars.apply(continuous_var_summary).round(1)"
   ]
  },
  {
   "cell_type": "markdown",
   "metadata": {},
   "source": [
    "### missing value treatment"
   ]
  },
  {
   "cell_type": "code",
   "execution_count": 38,
   "metadata": {},
   "outputs": [],
   "source": [
    "cars_conti_vars = cars_conti_vars.apply(missing_imputation)\n",
    "cars_cat_vars = cars_cat_vars.apply(missing_imputation)"
   ]
  },
  {
   "cell_type": "code",
   "execution_count": 39,
   "metadata": {},
   "outputs": [
    {
     "data": {
      "text/html": [
       "<div>\n",
       "<style scoped>\n",
       "    .dataframe tbody tr th:only-of-type {\n",
       "        vertical-align: middle;\n",
       "    }\n",
       "\n",
       "    .dataframe tbody tr th {\n",
       "        vertical-align: top;\n",
       "    }\n",
       "\n",
       "    .dataframe thead th {\n",
       "        text-align: right;\n",
       "    }\n",
       "</style>\n",
       "<table border=\"1\" class=\"dataframe\">\n",
       "  <thead>\n",
       "    <tr style=\"text-align: right;\">\n",
       "      <th></th>\n",
       "      <th>Sales_in_thousands</th>\n",
       "      <th>four_year_resale_value</th>\n",
       "      <th>Price_in_thousands</th>\n",
       "      <th>Engine_size</th>\n",
       "      <th>Horsepower</th>\n",
       "      <th>Wheelbase</th>\n",
       "      <th>Width</th>\n",
       "      <th>Length</th>\n",
       "      <th>Curb_weight</th>\n",
       "      <th>Fuel_capacity</th>\n",
       "      <th>Fuel_efficiency</th>\n",
       "      <th>Power_perf_factor</th>\n",
       "    </tr>\n",
       "  </thead>\n",
       "  <tbody>\n",
       "    <tr>\n",
       "      <th>DataType</th>\n",
       "      <td>float64</td>\n",
       "      <td>float64</td>\n",
       "      <td>float64</td>\n",
       "      <td>float64</td>\n",
       "      <td>float64</td>\n",
       "      <td>float64</td>\n",
       "      <td>float64</td>\n",
       "      <td>float64</td>\n",
       "      <td>float64</td>\n",
       "      <td>float64</td>\n",
       "      <td>float64</td>\n",
       "      <td>float64</td>\n",
       "    </tr>\n",
       "    <tr>\n",
       "      <th>C</th>\n",
       "      <td>155</td>\n",
       "      <td>116</td>\n",
       "      <td>151</td>\n",
       "      <td>30</td>\n",
       "      <td>65</td>\n",
       "      <td>88</td>\n",
       "      <td>77</td>\n",
       "      <td>126</td>\n",
       "      <td>146</td>\n",
       "      <td>55</td>\n",
       "      <td>20</td>\n",
       "      <td>153</td>\n",
       "    </tr>\n",
       "    <tr>\n",
       "      <th>N</th>\n",
       "      <td>157</td>\n",
       "      <td>157</td>\n",
       "      <td>157</td>\n",
       "      <td>157</td>\n",
       "      <td>157</td>\n",
       "      <td>157</td>\n",
       "      <td>157</td>\n",
       "      <td>157</td>\n",
       "      <td>157</td>\n",
       "      <td>157</td>\n",
       "      <td>157</td>\n",
       "      <td>157</td>\n",
       "    </tr>\n",
       "    <tr>\n",
       "      <th>NMISS</th>\n",
       "      <td>0</td>\n",
       "      <td>0</td>\n",
       "      <td>0</td>\n",
       "      <td>0</td>\n",
       "      <td>0</td>\n",
       "      <td>0</td>\n",
       "      <td>0</td>\n",
       "      <td>0</td>\n",
       "      <td>0</td>\n",
       "      <td>0</td>\n",
       "      <td>0</td>\n",
       "      <td>0</td>\n",
       "    </tr>\n",
       "    <tr>\n",
       "      <th>SUM</th>\n",
       "      <td>8025.53</td>\n",
       "      <td>2829.14</td>\n",
       "      <td>4290.61</td>\n",
       "      <td>478.86</td>\n",
       "      <td>29095.6</td>\n",
       "      <td>16867.5</td>\n",
       "      <td>11173.6</td>\n",
       "      <td>29411.3</td>\n",
       "      <td>530.528</td>\n",
       "      <td>2817.85</td>\n",
       "      <td>3731.3</td>\n",
       "      <td>12065.4</td>\n",
       "    </tr>\n",
       "    <tr>\n",
       "      <th>MEAN</th>\n",
       "      <td>51.118</td>\n",
       "      <td>18.02</td>\n",
       "      <td>27.3287</td>\n",
       "      <td>3.05006</td>\n",
       "      <td>185.322</td>\n",
       "      <td>107.437</td>\n",
       "      <td>71.1696</td>\n",
       "      <td>187.333</td>\n",
       "      <td>3.37916</td>\n",
       "      <td>17.9481</td>\n",
       "      <td>23.7662</td>\n",
       "      <td>76.8496</td>\n",
       "    </tr>\n",
       "    <tr>\n",
       "      <th>MEDIAN</th>\n",
       "      <td>29.45</td>\n",
       "      <td>17.71</td>\n",
       "      <td>23.4</td>\n",
       "      <td>3</td>\n",
       "      <td>180</td>\n",
       "      <td>107</td>\n",
       "      <td>70.6</td>\n",
       "      <td>187.8</td>\n",
       "      <td>3.368</td>\n",
       "      <td>17.2</td>\n",
       "      <td>24</td>\n",
       "      <td>72.2904</td>\n",
       "    </tr>\n",
       "    <tr>\n",
       "      <th>STD</th>\n",
       "      <td>57.7227</td>\n",
       "      <td>9.80668</td>\n",
       "      <td>13.9735</td>\n",
       "      <td>0.979125</td>\n",
       "      <td>52.6469</td>\n",
       "      <td>7.40046</td>\n",
       "      <td>3.37946</td>\n",
       "      <td>13.0782</td>\n",
       "      <td>0.617766</td>\n",
       "      <td>3.80759</td>\n",
       "      <td>3.95616</td>\n",
       "      <td>23.6916</td>\n",
       "    </tr>\n",
       "    <tr>\n",
       "      <th>VAR</th>\n",
       "      <td>3331.91</td>\n",
       "      <td>96.171</td>\n",
       "      <td>195.259</td>\n",
       "      <td>0.958686</td>\n",
       "      <td>2771.7</td>\n",
       "      <td>54.7668</td>\n",
       "      <td>11.4207</td>\n",
       "      <td>171.04</td>\n",
       "      <td>0.381634</td>\n",
       "      <td>14.4978</td>\n",
       "      <td>15.6512</td>\n",
       "      <td>561.293</td>\n",
       "    </tr>\n",
       "    <tr>\n",
       "      <th>MIN</th>\n",
       "      <td>0.93728</td>\n",
       "      <td>6.173</td>\n",
       "      <td>10.2314</td>\n",
       "      <td>1.555</td>\n",
       "      <td>96.4</td>\n",
       "      <td>92.875</td>\n",
       "      <td>66.085</td>\n",
       "      <td>154.915</td>\n",
       "      <td>2.2454</td>\n",
       "      <td>11.9</td>\n",
       "      <td>15</td>\n",
       "      <td>38.4619</td>\n",
       "    </tr>\n",
       "    <tr>\n",
       "      <th>P1</th>\n",
       "      <td>0.946643</td>\n",
       "      <td>6.87412</td>\n",
       "      <td>10.4854</td>\n",
       "      <td>1.5802</td>\n",
       "      <td>98.416</td>\n",
       "      <td>93.001</td>\n",
       "      <td>66.2614</td>\n",
       "      <td>156.251</td>\n",
       "      <td>2.24798</td>\n",
       "      <td>11.9</td>\n",
       "      <td>15</td>\n",
       "      <td>39.3156</td>\n",
       "    </tr>\n",
       "    <tr>\n",
       "      <th>P5</th>\n",
       "      <td>1.8708</td>\n",
       "      <td>8.425</td>\n",
       "      <td>12.491</td>\n",
       "      <td>1.8</td>\n",
       "      <td>114.6</td>\n",
       "      <td>95.92</td>\n",
       "      <td>66.5</td>\n",
       "      <td>163.7</td>\n",
       "      <td>2.424</td>\n",
       "      <td>12.5</td>\n",
       "      <td>16.8</td>\n",
       "      <td>46.2571</td>\n",
       "    </tr>\n",
       "    <tr>\n",
       "      <th>P10</th>\n",
       "      <td>5.4536</td>\n",
       "      <td>9.71</td>\n",
       "      <td>13.9762</td>\n",
       "      <td>1.96</td>\n",
       "      <td>120</td>\n",
       "      <td>98.7</td>\n",
       "      <td>66.9</td>\n",
       "      <td>173.12</td>\n",
       "      <td>2.6128</td>\n",
       "      <td>13.2</td>\n",
       "      <td>18.6</td>\n",
       "      <td>48.5228</td>\n",
       "    </tr>\n",
       "    <tr>\n",
       "      <th>P25</th>\n",
       "      <td>14.114</td>\n",
       "      <td>12.545</td>\n",
       "      <td>18.145</td>\n",
       "      <td>2.3</td>\n",
       "      <td>150</td>\n",
       "      <td>103</td>\n",
       "      <td>68.4</td>\n",
       "      <td>177.6</td>\n",
       "      <td>2.975</td>\n",
       "      <td>15.8</td>\n",
       "      <td>21</td>\n",
       "      <td>60.7274</td>\n",
       "    </tr>\n",
       "    <tr>\n",
       "      <th>P50</th>\n",
       "      <td>29.45</td>\n",
       "      <td>17.71</td>\n",
       "      <td>23.4</td>\n",
       "      <td>3</td>\n",
       "      <td>180</td>\n",
       "      <td>107</td>\n",
       "      <td>70.6</td>\n",
       "      <td>187.8</td>\n",
       "      <td>3.368</td>\n",
       "      <td>17.2</td>\n",
       "      <td>24</td>\n",
       "      <td>72.2904</td>\n",
       "    </tr>\n",
       "    <tr>\n",
       "      <th>P75</th>\n",
       "      <td>67.956</td>\n",
       "      <td>18.14</td>\n",
       "      <td>31.93</td>\n",
       "      <td>3.5</td>\n",
       "      <td>215</td>\n",
       "      <td>112.2</td>\n",
       "      <td>73.4</td>\n",
       "      <td>196.1</td>\n",
       "      <td>3.778</td>\n",
       "      <td>19.5</td>\n",
       "      <td>26</td>\n",
       "      <td>89.4019</td>\n",
       "    </tr>\n",
       "    <tr>\n",
       "      <th>P90</th>\n",
       "      <td>127.642</td>\n",
       "      <td>27.025</td>\n",
       "      <td>43.788</td>\n",
       "      <td>4.6</td>\n",
       "      <td>253.8</td>\n",
       "      <td>115.46</td>\n",
       "      <td>76.18</td>\n",
       "      <td>203.34</td>\n",
       "      <td>4.1174</td>\n",
       "      <td>23.2</td>\n",
       "      <td>28.4</td>\n",
       "      <td>107.994</td>\n",
       "    </tr>\n",
       "    <tr>\n",
       "      <th>P95</th>\n",
       "      <td>185.336</td>\n",
       "      <td>39.275</td>\n",
       "      <td>55.225</td>\n",
       "      <td>4.76</td>\n",
       "      <td>300</td>\n",
       "      <td>119.2</td>\n",
       "      <td>78.2</td>\n",
       "      <td>208.5</td>\n",
       "      <td>4.3884</td>\n",
       "      <td>25.4</td>\n",
       "      <td>31</td>\n",
       "      <td>125.065</td>\n",
       "    </tr>\n",
       "    <tr>\n",
       "      <th>P99</th>\n",
       "      <td>253.561</td>\n",
       "      <td>59.3128</td>\n",
       "      <td>76.5143</td>\n",
       "      <td>5.7</td>\n",
       "      <td>316.93</td>\n",
       "      <td>132.485</td>\n",
       "      <td>79.1396</td>\n",
       "      <td>217.062</td>\n",
       "      <td>5.39462</td>\n",
       "      <td>30.396</td>\n",
       "      <td>33</td>\n",
       "      <td>141.109</td>\n",
       "    </tr>\n",
       "    <tr>\n",
       "      <th>MAX</th>\n",
       "      <td>260.645</td>\n",
       "      <td>60.22</td>\n",
       "      <td>78.4798</td>\n",
       "      <td>5.7</td>\n",
       "      <td>325.75</td>\n",
       "      <td>134.375</td>\n",
       "      <td>79.19</td>\n",
       "      <td>219.305</td>\n",
       "      <td>5.39668</td>\n",
       "      <td>30.9</td>\n",
       "      <td>33</td>\n",
       "      <td>141.119</td>\n",
       "    </tr>\n",
       "  </tbody>\n",
       "</table>\n",
       "</div>"
      ],
      "text/plain": [
       "         Sales_in_thousands four_year_resale_value Price_in_thousands  \\\n",
       "DataType            float64                float64            float64   \n",
       "C                       155                    116                151   \n",
       "N                       157                    157                157   \n",
       "NMISS                     0                      0                  0   \n",
       "SUM                 8025.53                2829.14            4290.61   \n",
       "MEAN                 51.118                  18.02            27.3287   \n",
       "MEDIAN                29.45                  17.71               23.4   \n",
       "STD                 57.7227                9.80668            13.9735   \n",
       "VAR                 3331.91                 96.171            195.259   \n",
       "MIN                 0.93728                  6.173            10.2314   \n",
       "P1                 0.946643                6.87412            10.4854   \n",
       "P5                   1.8708                  8.425             12.491   \n",
       "P10                  5.4536                   9.71            13.9762   \n",
       "P25                  14.114                 12.545             18.145   \n",
       "P50                   29.45                  17.71               23.4   \n",
       "P75                  67.956                  18.14              31.93   \n",
       "P90                 127.642                 27.025             43.788   \n",
       "P95                 185.336                 39.275             55.225   \n",
       "P99                 253.561                59.3128            76.5143   \n",
       "MAX                 260.645                  60.22            78.4798   \n",
       "\n",
       "         Engine_size Horsepower Wheelbase    Width   Length Curb_weight  \\\n",
       "DataType     float64    float64   float64  float64  float64     float64   \n",
       "C                 30         65        88       77      126         146   \n",
       "N                157        157       157      157      157         157   \n",
       "NMISS              0          0         0        0        0           0   \n",
       "SUM           478.86    29095.6   16867.5  11173.6  29411.3     530.528   \n",
       "MEAN         3.05006    185.322   107.437  71.1696  187.333     3.37916   \n",
       "MEDIAN             3        180       107     70.6    187.8       3.368   \n",
       "STD         0.979125    52.6469   7.40046  3.37946  13.0782    0.617766   \n",
       "VAR         0.958686     2771.7   54.7668  11.4207   171.04    0.381634   \n",
       "MIN            1.555       96.4    92.875   66.085  154.915      2.2454   \n",
       "P1            1.5802     98.416    93.001  66.2614  156.251     2.24798   \n",
       "P5               1.8      114.6     95.92     66.5    163.7       2.424   \n",
       "P10             1.96        120      98.7     66.9   173.12      2.6128   \n",
       "P25              2.3        150       103     68.4    177.6       2.975   \n",
       "P50                3        180       107     70.6    187.8       3.368   \n",
       "P75              3.5        215     112.2     73.4    196.1       3.778   \n",
       "P90              4.6      253.8    115.46    76.18   203.34      4.1174   \n",
       "P95             4.76        300     119.2     78.2    208.5      4.3884   \n",
       "P99              5.7     316.93   132.485  79.1396  217.062     5.39462   \n",
       "MAX              5.7     325.75   134.375    79.19  219.305     5.39668   \n",
       "\n",
       "         Fuel_capacity Fuel_efficiency Power_perf_factor  \n",
       "DataType       float64         float64           float64  \n",
       "C                   55              20               153  \n",
       "N                  157             157               157  \n",
       "NMISS                0               0                 0  \n",
       "SUM            2817.85          3731.3           12065.4  \n",
       "MEAN           17.9481         23.7662           76.8496  \n",
       "MEDIAN            17.2              24           72.2904  \n",
       "STD            3.80759         3.95616           23.6916  \n",
       "VAR            14.4978         15.6512           561.293  \n",
       "MIN               11.9              15           38.4619  \n",
       "P1                11.9              15           39.3156  \n",
       "P5                12.5            16.8           46.2571  \n",
       "P10               13.2            18.6           48.5228  \n",
       "P25               15.8              21           60.7274  \n",
       "P50               17.2              24           72.2904  \n",
       "P75               19.5              26           89.4019  \n",
       "P90               23.2            28.4           107.994  \n",
       "P95               25.4              31           125.065  \n",
       "P99             30.396              33           141.109  \n",
       "MAX               30.9              33           141.119  "
      ]
     },
     "execution_count": 39,
     "metadata": {},
     "output_type": "execute_result"
    }
   ],
   "source": [
    "cars_conti_vars.apply(continuous_var_summary).round(1)"
   ]
  },
  {
   "cell_type": "markdown",
   "metadata": {},
   "source": [
    "## Handling categorical features\n",
    "\n",
    "scikit-learn expects all features to be numeric. So how do we include a categorical feature in our model?\n",
    "\n",
    "- **Ordered categories:** transform them to sensible numeric values (example: small=1, medium=2, large=3)\n",
    "- **Unordered categories:** use dummy encoding (0/1)\n",
    "\n",
    "What are the categorical features in our dataset?\n",
    "\n",
    "- **Ordered categories:** weather (already encoded with sensible numeric values)\n",
    "- **Unordered categories:** season (needs dummy encoding), holiday (already dummy encoded), workingday (already dummy encoded)\n",
    "\n",
    "For season, we can't simply leave the encoding as 1 = spring, 2 = summer, 3 = fall, and 4 = winter, because that would imply an **ordered relationship**. Instead, we create **multiple dummy variables:**"
   ]
  },
  {
   "cell_type": "code",
   "execution_count": 40,
   "metadata": {},
   "outputs": [],
   "source": [
    "def count_charts(x):\n",
    "    sns.countplot(x)\n",
    "    plt.show()"
   ]
  },
  {
   "cell_type": "code",
   "execution_count": 41,
   "metadata": {},
   "outputs": [
    {
     "data": {
      "image/png": "[encoded data removed]",
      "text/plain": [
       "<Figure size 432x288 with 1 Axes>"
      ]
     },
     "metadata": {
      "needs_background": "light"
     },
     "output_type": "display_data"
    },
    {
     "data": {
      "image/png": "[encoded data removed]",
      "text/plain": [
       "<Figure size 432x288 with 1 Axes>"
      ]
     },
     "metadata": {
      "needs_background": "light"
     },
     "output_type": "display_data"
    },
    {
     "data": {
      "image/png": "[encoded data removed]",
      "text/plain": [
       "<Figure size 432x288 with 1 Axes>"
      ]
     },
     "metadata": {
      "needs_background": "light"
     },
     "output_type": "display_data"
    },
    {
     "data": {
      "image/png": "[encoded data removed]",
      "text/plain": [
       "<Figure size 432x288 with 1 Axes>"
      ]
     },
     "metadata": {
      "needs_background": "light"
     },
     "output_type": "display_data"
    },
    {
     "data": {
      "text/plain": [
       "Manufacturer     None\n",
       "Model            None\n",
       "Vehicle_type     None\n",
       "Latest_Launch    None\n",
       "dtype: object"
      ]
     },
     "execution_count": 41,
     "metadata": {},
     "output_type": "execute_result"
    }
   ],
   "source": [
    "cars_cat_vars.apply(count_charts)"
   ]
  },
  {
   "cell_type": "raw",
   "metadata": {},
   "source": [
    "# Steps to be followed to create dummy variables:\n",
    "-----------------------------------------------------------------------------------------------\n",
    "1. use pd.get_dummies() method to create dummy varaibles for each value inside the variable\n",
    "2. drop any one variable from the dummy variables to avoid multicolinearity\n",
    "3. concat the dummy data with the original dataset\n",
    "4. drop the variable from which dummy variable has been created"
   ]
  },
  {
   "cell_type": "code",
   "execution_count": 21,
   "metadata": {},
   "outputs": [
    {
     "data": {
      "text/plain": [
       "30"
      ]
     },
     "execution_count": 21,
     "metadata": {},
     "output_type": "execute_result"
    }
   ],
   "source": [
    "# get the count of all the categories of the variable\n",
    "cars_cat_vars.Manufacturer.value_counts().count()"
   ]
  },
  {
   "cell_type": "code",
   "execution_count": 52,
   "metadata": {},
   "outputs": [
    {
     "name": "stderr",
     "output_type": "stream",
     "text": [
      "C:\\Users\\DELL\\Anaconda3\\lib\\site-packages\\ipykernel_launcher.py:6: SettingWithCopyWarning: \n",
      "A value is trying to be set on a copy of a slice from a DataFrame.\n",
      "Try using .loc[row_indexer,col_indexer] = value instead\n",
      "\n",
      "See the caveats in the documentation: http://pandas.pydata.org/pandas-docs/stable/indexing.html#indexing-view-versus-copy\n",
      "  \n"
     ]
    }
   ],
   "source": [
    "# get the useful categorical variables\n",
    "cars_cat_vars = cars[['Manufacturer', 'Vehicle_type']]\n",
    "\n",
    "# for c_feature in categorical_features\n",
    "for c_feature in ['Manufacturer', 'Vehicle_type']:\n",
    "    cars_cat_vars[c_feature] = cars_cat_vars[c_feature].astype('category')\n",
    "    cars_cat_vars = create_dummies(cars_cat_vars, c_feature)\n",
    "    \n",
    "# see the data in the output\n",
    "#cars_cat_vars"
   ]
  },
  {
   "cell_type": "code",
   "execution_count": 60,
   "metadata": {},
   "outputs": [
    {
     "data": {
      "text/plain": [
       "(157, 30)"
      ]
     },
     "execution_count": 60,
     "metadata": {},
     "output_type": "execute_result"
    }
   ],
   "source": [
    "cars_cat_vars.shape"
   ]
  },
  {
   "cell_type": "markdown",
   "metadata": {},
   "source": [
    "### final data for analysis"
   ]
  },
  {
   "cell_type": "code",
   "execution_count": 62,
   "metadata": {},
   "outputs": [],
   "source": [
    "cars_new = pd.concat([cars_conti_vars, cars_cat_vars], axis = 1)"
   ]
  },
  {
   "cell_type": "code",
   "execution_count": 63,
   "metadata": {},
   "outputs": [
    {
     "data": {
      "text/plain": [
       "(157, 42)"
      ]
     },
     "execution_count": 63,
     "metadata": {},
     "output_type": "execute_result"
    }
   ],
   "source": [
    "cars_new.shape"
   ]
  },
  {
   "cell_type": "code",
   "execution_count": 26,
   "metadata": {
    "scrolled": true
   },
   "outputs": [
    {
     "data": {
      "text/html": [
       "<div>\n",
       "<style scoped>\n",
       "    .dataframe tbody tr th:only-of-type {\n",
       "        vertical-align: middle;\n",
       "    }\n",
       "\n",
       "    .dataframe tbody tr th {\n",
       "        vertical-align: top;\n",
       "    }\n",
       "\n",
       "    .dataframe thead th {\n",
       "        text-align: right;\n",
       "    }\n",
       "</style>\n",
       "<table border=\"1\" class=\"dataframe\">\n",
       "  <thead>\n",
       "    <tr style=\"text-align: right;\">\n",
       "      <th></th>\n",
       "      <th>Sales_in_thousands</th>\n",
       "      <th>four_year_resale_value</th>\n",
       "      <th>Price_in_thousands</th>\n",
       "      <th>Engine_size</th>\n",
       "      <th>Horsepower</th>\n",
       "      <th>Wheelbase</th>\n",
       "      <th>Width</th>\n",
       "      <th>Length</th>\n",
       "      <th>Curb_weight</th>\n",
       "      <th>Fuel_capacity</th>\n",
       "      <th>...</th>\n",
       "      <th>Manufacturer_Plymouth</th>\n",
       "      <th>Manufacturer_Pontiac</th>\n",
       "      <th>Manufacturer_Porsche</th>\n",
       "      <th>Manufacturer_Saab</th>\n",
       "      <th>Manufacturer_Saturn</th>\n",
       "      <th>Manufacturer_Subaru</th>\n",
       "      <th>Manufacturer_Toyota</th>\n",
       "      <th>Manufacturer_Volkswagen</th>\n",
       "      <th>Manufacturer_Volvo</th>\n",
       "      <th>Vehicle_type_Passenger</th>\n",
       "    </tr>\n",
       "  </thead>\n",
       "  <tbody>\n",
       "    <tr>\n",
       "      <th>0</th>\n",
       "      <td>16.919</td>\n",
       "      <td>16.360</td>\n",
       "      <td>21.500000</td>\n",
       "      <td>1.8</td>\n",
       "      <td>140.0</td>\n",
       "      <td>101.2</td>\n",
       "      <td>67.3</td>\n",
       "      <td>172.4</td>\n",
       "      <td>2.639</td>\n",
       "      <td>13.2</td>\n",
       "      <td>...</td>\n",
       "      <td>0</td>\n",
       "      <td>0</td>\n",
       "      <td>0</td>\n",
       "      <td>0</td>\n",
       "      <td>0</td>\n",
       "      <td>0</td>\n",
       "      <td>0</td>\n",
       "      <td>0</td>\n",
       "      <td>0</td>\n",
       "      <td>1</td>\n",
       "    </tr>\n",
       "    <tr>\n",
       "      <th>1</th>\n",
       "      <td>39.384</td>\n",
       "      <td>19.875</td>\n",
       "      <td>28.400000</td>\n",
       "      <td>3.2</td>\n",
       "      <td>225.0</td>\n",
       "      <td>108.1</td>\n",
       "      <td>70.3</td>\n",
       "      <td>192.9</td>\n",
       "      <td>3.517</td>\n",
       "      <td>17.2</td>\n",
       "      <td>...</td>\n",
       "      <td>0</td>\n",
       "      <td>0</td>\n",
       "      <td>0</td>\n",
       "      <td>0</td>\n",
       "      <td>0</td>\n",
       "      <td>0</td>\n",
       "      <td>0</td>\n",
       "      <td>0</td>\n",
       "      <td>0</td>\n",
       "      <td>1</td>\n",
       "    </tr>\n",
       "    <tr>\n",
       "      <th>2</th>\n",
       "      <td>14.114</td>\n",
       "      <td>18.225</td>\n",
       "      <td>27.328745</td>\n",
       "      <td>3.2</td>\n",
       "      <td>225.0</td>\n",
       "      <td>106.9</td>\n",
       "      <td>70.6</td>\n",
       "      <td>192.0</td>\n",
       "      <td>3.470</td>\n",
       "      <td>17.2</td>\n",
       "      <td>...</td>\n",
       "      <td>0</td>\n",
       "      <td>0</td>\n",
       "      <td>0</td>\n",
       "      <td>0</td>\n",
       "      <td>0</td>\n",
       "      <td>0</td>\n",
       "      <td>0</td>\n",
       "      <td>0</td>\n",
       "      <td>0</td>\n",
       "      <td>1</td>\n",
       "    </tr>\n",
       "    <tr>\n",
       "      <th>3</th>\n",
       "      <td>8.588</td>\n",
       "      <td>29.725</td>\n",
       "      <td>42.000000</td>\n",
       "      <td>3.5</td>\n",
       "      <td>210.0</td>\n",
       "      <td>114.6</td>\n",
       "      <td>71.4</td>\n",
       "      <td>196.6</td>\n",
       "      <td>3.850</td>\n",
       "      <td>18.0</td>\n",
       "      <td>...</td>\n",
       "      <td>0</td>\n",
       "      <td>0</td>\n",
       "      <td>0</td>\n",
       "      <td>0</td>\n",
       "      <td>0</td>\n",
       "      <td>0</td>\n",
       "      <td>0</td>\n",
       "      <td>0</td>\n",
       "      <td>0</td>\n",
       "      <td>1</td>\n",
       "    </tr>\n",
       "    <tr>\n",
       "      <th>4</th>\n",
       "      <td>20.397</td>\n",
       "      <td>22.255</td>\n",
       "      <td>23.990000</td>\n",
       "      <td>1.8</td>\n",
       "      <td>150.0</td>\n",
       "      <td>102.6</td>\n",
       "      <td>68.2</td>\n",
       "      <td>178.0</td>\n",
       "      <td>2.998</td>\n",
       "      <td>16.4</td>\n",
       "      <td>...</td>\n",
       "      <td>0</td>\n",
       "      <td>0</td>\n",
       "      <td>0</td>\n",
       "      <td>0</td>\n",
       "      <td>0</td>\n",
       "      <td>0</td>\n",
       "      <td>0</td>\n",
       "      <td>0</td>\n",
       "      <td>0</td>\n",
       "      <td>1</td>\n",
       "    </tr>\n",
       "  </tbody>\n",
       "</table>\n",
       "<p>5 rows × 42 columns</p>\n",
       "</div>"
      ],
      "text/plain": [
       "   Sales_in_thousands  four_year_resale_value  Price_in_thousands  \\\n",
       "0              16.919                  16.360           21.500000   \n",
       "1              39.384                  19.875           28.400000   \n",
       "2              14.114                  18.225           27.328745   \n",
       "3               8.588                  29.725           42.000000   \n",
       "4              20.397                  22.255           23.990000   \n",
       "\n",
       "   Engine_size  Horsepower  Wheelbase  Width  Length  Curb_weight  \\\n",
       "0          1.8       140.0      101.2   67.3   172.4        2.639   \n",
       "1          3.2       225.0      108.1   70.3   192.9        3.517   \n",
       "2          3.2       225.0      106.9   70.6   192.0        3.470   \n",
       "3          3.5       210.0      114.6   71.4   196.6        3.850   \n",
       "4          1.8       150.0      102.6   68.2   178.0        2.998   \n",
       "\n",
       "   Fuel_capacity  ...  Manufacturer_Plymouth  Manufacturer_Pontiac  \\\n",
       "0           13.2  ...                      0                     0   \n",
       "1           17.2  ...                      0                     0   \n",
       "2           17.2  ...                      0                     0   \n",
       "3           18.0  ...                      0                     0   \n",
       "4           16.4  ...                      0                     0   \n",
       "\n",
       "   Manufacturer_Porsche  Manufacturer_Saab  Manufacturer_Saturn  \\\n",
       "0                     0                  0                    0   \n",
       "1                     0                  0                    0   \n",
       "2                     0                  0                    0   \n",
       "3                     0                  0                    0   \n",
       "4                     0                  0                    0   \n",
       "\n",
       "   Manufacturer_Subaru  Manufacturer_Toyota  Manufacturer_Volkswagen  \\\n",
       "0                    0                    0                        0   \n",
       "1                    0                    0                        0   \n",
       "2                    0                    0                        0   \n",
       "3                    0                    0                        0   \n",
       "4                    0                    0                        0   \n",
       "\n",
       "   Manufacturer_Volvo  Vehicle_type_Passenger  \n",
       "0                   0                       1  \n",
       "1                   0                       1  \n",
       "2                   0                       1  \n",
       "3                   0                       1  \n",
       "4                   0                       1  \n",
       "\n",
       "[5 rows x 42 columns]"
      ]
     },
     "execution_count": 26,
     "metadata": {},
     "output_type": "execute_result"
    }
   ],
   "source": [
    "cars_new.head()"
   ]
  },
  {
   "cell_type": "code",
   "execution_count": 34,
   "metadata": {},
   "outputs": [
    {
     "data": {
      "text/plain": [
       "(157, 42)"
      ]
     },
     "execution_count": 34,
     "metadata": {},
     "output_type": "execute_result"
    }
   ],
   "source": [
    "cars_new.shape"
   ]
  },
  {
   "cell_type": "markdown",
   "metadata": {},
   "source": [
    "### assumptions check"
   ]
  },
  {
   "cell_type": "code",
   "execution_count": 64,
   "metadata": {},
   "outputs": [
    {
     "data": {
      "text/plain": [
       "<matplotlib.axes._subplots.AxesSubplot at 0x1d52a8afda0>"
      ]
     },
     "execution_count": 64,
     "metadata": {},
     "output_type": "execute_result"
    },
    {
     "data": {
      "image/png": "[encoded data removed]",
      "text/plain": [
       "<Figure size 432x288 with 1 Axes>"
      ]
     },
     "metadata": {
      "needs_background": "light"
     },
     "output_type": "display_data"
    }
   ],
   "source": [
    "sns.scatterplot( cars_new.Sales_in_thousands, cars_new.Price_in_thousands)"
   ]
  },
  {
   "cell_type": "code",
   "execution_count": null,
   "metadata": {},
   "outputs": [],
   "source": [
    "# no of obs should be greater than no of variables\n",
    "\n",
    "# y should be linearly related with X variables\n",
    "\n",
    "# All the variables should be normally distributed; \n",
    "# if not all, atleast y should be normally distributed\n"
   ]
  },
  {
   "cell_type": "code",
   "execution_count": 65,
   "metadata": {},
   "outputs": [
    {
     "data": {
      "image/png": "[encoded data removed]",
      "text/plain": [
       "<Figure size 432x288 with 1 Axes>"
      ]
     },
     "metadata": {
      "needs_background": "light"
     },
     "output_type": "display_data"
    }
   ],
   "source": [
    "# Very first assumtion is that all the variables should be normally distributed, however that can't be possible\n",
    "# However we have to be atleast strict about the dependant Y variable\n",
    "\n",
    "# Distribution of variables\n",
    "sns.distplot(cars_new.Sales_in_thousands)\n",
    "plt.show()\n",
    "# this distribution is highly skewed\n",
    "\n",
    "# Notes:\n",
    "#-----------------------------------------------------\n",
    "# 1. if we get skewed data, then we have to transform the data and there are multiple methods to go about it\n",
    "# 2. most commonly used and which works on most of the data is log transformation\n",
    "# 3. Ideally we can do this for each of the dependant variable as well, \n",
    "#    however it will depend on amount of data and the amount of analytical rigour\n",
    "# 4. In no case we can proceed if dependant variable is not normal/near to normal distributed"
   ]
  },
  {
   "cell_type": "code",
   "execution_count": 66,
   "metadata": {},
   "outputs": [
    {
     "data": {
      "text/plain": [
       "1.99249329205088"
      ]
     },
     "execution_count": 66,
     "metadata": {},
     "output_type": "execute_result"
    }
   ],
   "source": [
    "cars_new.Sales_in_thousands.skew()"
   ]
  },
  {
   "cell_type": "code",
   "execution_count": 67,
   "metadata": {
    "scrolled": true
   },
   "outputs": [
    {
     "data": {
      "image/png": "[encoded data removed]",
      "text/plain": [
       "<Figure size 432x288 with 1 Axes>"
      ]
     },
     "metadata": {
      "needs_background": "light"
     },
     "output_type": "display_data"
    }
   ],
   "source": [
    "# Note: good practice is to take the log of the data plus 1, bcoz we don't have log of zero defined\n",
    "# In thios data its not required as sales are always greater than zero\n",
    "\n",
    "# apply log transformation: log is rescalling the data and making the distribution normal\n",
    "cars_new['ln_sales_in_thousands'] = np.log(cars_new['Sales_in_thousands'])\n",
    "\n",
    "# Distribution of variables\n",
    "sns.distplot(cars_new.ln_sales_in_thousands)\n",
    "plt.show()"
   ]
  },
  {
   "cell_type": "code",
   "execution_count": 68,
   "metadata": {},
   "outputs": [
    {
     "data": {
      "text/plain": [
       "-0.5925861100519004"
      ]
     },
     "execution_count": 68,
     "metadata": {},
     "output_type": "execute_result"
    }
   ],
   "source": [
    "cars_new.ln_sales_in_thousands.skew()"
   ]
  },
  {
   "cell_type": "code",
   "execution_count": 69,
   "metadata": {},
   "outputs": [],
   "source": [
    "# Linearity: correlation matrix (ranges from 1 to -1)\n",
    "corrm = cars_new.corr()\n",
    "corrm.to_excel('corrm.xlsx')"
   ]
  },
  {
   "cell_type": "code",
   "execution_count": 70,
   "metadata": {},
   "outputs": [
    {
     "data": {
      "text/plain": [
       "<matplotlib.axes._subplots.AxesSubplot at 0x1d52a611278>"
      ]
     },
     "execution_count": 70,
     "metadata": {},
     "output_type": "execute_result"
    },
    {
     "data": {
      "image/png": "[encoded data removed]",
      "text/plain": [
       "<Figure size 720x576 with 2 Axes>"
      ]
     },
     "metadata": {
      "needs_background": "light"
     },
     "output_type": "display_data"
    }
   ],
   "source": [
    "# visualize correlation matrix in Seaborn using a heatmap\n",
    "plt.figure(figsize = (10, 8))\n",
    "sns.heatmap(cars_new.corr())\n",
    "\n",
    "# fuel efficiency vs fuel capacity\n",
    "# Curb weight vs Engine Size\n",
    "\n",
    "# in case we can't make any concrete decision looking at the variables; we can also check on the VAR of \n",
    "# the variables into consideration e.g Curb weight vs Wheel base"
   ]
  },
  {
   "cell_type": "code",
   "execution_count": 71,
   "metadata": {},
   "outputs": [
    {
     "data": {
      "text/plain": [
       "(157, 43)"
      ]
     },
     "execution_count": 71,
     "metadata": {},
     "output_type": "execute_result"
    }
   ],
   "source": [
    "# no of variables and obs in the final data to be used for modelling\n",
    "cars_new.shape"
   ]
  },
  {
   "cell_type": "code",
   "execution_count": 72,
   "metadata": {},
   "outputs": [
    {
     "data": {
      "text/plain": [
       "Index(['Sales_in_thousands', 'four_year_resale_value', 'Price_in_thousands',\n",
       "       'Engine_size', 'Horsepower', 'Wheelbase', 'Width', 'Length',\n",
       "       'Curb_weight', 'Fuel_capacity', 'Fuel_efficiency', 'Power_perf_factor',\n",
       "       'Manufacturer_Audi', 'Manufacturer_BMW', 'Manufacturer_Buick',\n",
       "       'Manufacturer_Cadillac', 'Manufacturer_Chevrolet',\n",
       "       'Manufacturer_Chrysler', 'Manufacturer_Dodge', 'Manufacturer_Ford',\n",
       "       'Manufacturer_Honda', 'Manufacturer_Hyundai', 'Manufacturer_Infiniti',\n",
       "       'Manufacturer_Jaguar', 'Manufacturer_Jeep', 'Manufacturer_Lexus',\n",
       "       'Manufacturer_Lincoln', 'Manufacturer_Mercedes-B',\n",
       "       'Manufacturer_Mercury', 'Manufacturer_Mitsubishi',\n",
       "       'Manufacturer_Nissan', 'Manufacturer_Oldsmobile',\n",
       "       'Manufacturer_Plymouth', 'Manufacturer_Pontiac', 'Manufacturer_Porsche',\n",
       "       'Manufacturer_Saab', 'Manufacturer_Saturn', 'Manufacturer_Subaru',\n",
       "       'Manufacturer_Toyota', 'Manufacturer_Volkswagen', 'Manufacturer_Volvo',\n",
       "       'Vehicle_type_Passenger', 'ln_sales_in_thousands'],\n",
       "      dtype='object')"
      ]
     },
     "execution_count": 72,
     "metadata": {},
     "output_type": "execute_result"
    }
   ],
   "source": [
    "# model methods doesn't allow any special chars in varaible names except underscore\n",
    "cars_new.columns"
   ]
  },
  {
   "cell_type": "code",
   "execution_count": 73,
   "metadata": {},
   "outputs": [],
   "source": [
    "# remove the special chars\n",
    "cars_new.rename( columns = {'Manufacturer_Mercedes-B':'Manufacturer_Mercedes_B'}, inplace = True)"
   ]
  },
  {
   "cell_type": "markdown",
   "metadata": {},
   "source": [
    "### feature selection based on importance using F - Regression"
   ]
  },
  {
   "cell_type": "code",
   "execution_count": 78,
   "metadata": {},
   "outputs": [],
   "source": [
    "Features = cars_new.columns.difference(['ln_sales_in_thousands', 'Sales_in_thousands'])"
   ]
  },
  {
   "cell_type": "code",
   "execution_count": 79,
   "metadata": {},
   "outputs": [
    {
     "data": {
      "text/plain": [
       "Index(['Curb_weight', 'Engine_size', 'Fuel_capacity', 'Fuel_efficiency',\n",
       "       'Horsepower', 'Length', 'Manufacturer_Audi', 'Manufacturer_BMW',\n",
       "       'Manufacturer_Buick', 'Manufacturer_Cadillac', 'Manufacturer_Chevrolet',\n",
       "       'Manufacturer_Chrysler', 'Manufacturer_Dodge', 'Manufacturer_Ford',\n",
       "       'Manufacturer_Honda', 'Manufacturer_Hyundai', 'Manufacturer_Infiniti',\n",
       "       'Manufacturer_Jaguar', 'Manufacturer_Jeep', 'Manufacturer_Lexus',\n",
       "       'Manufacturer_Lincoln', 'Manufacturer_Mercedes_B',\n",
       "       'Manufacturer_Mercury', 'Manufacturer_Mitsubishi',\n",
       "       'Manufacturer_Nissan', 'Manufacturer_Oldsmobile',\n",
       "       'Manufacturer_Plymouth', 'Manufacturer_Pontiac', 'Manufacturer_Porsche',\n",
       "       'Manufacturer_Saab', 'Manufacturer_Saturn', 'Manufacturer_Subaru',\n",
       "       'Manufacturer_Toyota', 'Manufacturer_Volkswagen', 'Manufacturer_Volvo',\n",
       "       'Power_perf_factor', 'Price_in_thousands', 'Vehicle_type_Passenger',\n",
       "       'Wheelbase', 'Width', 'four_year_resale_value'],\n",
       "      dtype='object')"
      ]
     },
     "execution_count": 79,
     "metadata": {},
     "output_type": "execute_result"
    }
   ],
   "source": [
    "Features"
   ]
  },
  {
   "cell_type": "code",
   "execution_count": 99,
   "metadata": {},
   "outputs": [],
   "source": [
    "# Feature Selection based on importance\n",
    "from sklearn.feature_selection import f_regression"
   ]
  },
  {
   "cell_type": "code",
   "execution_count": 100,
   "metadata": {},
   "outputs": [],
   "source": [
    "# run the F regression to get the significant variables\n",
    "features = cars_new[Features]\n",
    "target = cars_new['ln_sales_in_thousands']\n",
    "F_values, p_values  = f_regression( features, target )"
   ]
  },
  {
   "cell_type": "code",
   "execution_count": 113,
   "metadata": {},
   "outputs": [],
   "source": [
    "# get the results in the datafram\n",
    "F_Regression_results = pd.concat([pd.Series(features.columns), \n",
    "                            pd.Series(F_values), pd.Series(p_values).round(5)], axis = 1)\n",
    "\n",
    "# add the column names\n",
    "F_Regression_results.columns = ['Feature', 'F_value', 'p_value']"
   ]
  },
  {
   "cell_type": "code",
   "execution_count": 184,
   "metadata": {},
   "outputs": [
    {
     "data": {
      "text/html": [
       "<div>\n",
       "<style scoped>\n",
       "    .dataframe tbody tr th:only-of-type {\n",
       "        vertical-align: middle;\n",
       "    }\n",
       "\n",
       "    .dataframe tbody tr th {\n",
       "        vertical-align: top;\n",
       "    }\n",
       "\n",
       "    .dataframe thead th {\n",
       "        text-align: right;\n",
       "    }\n",
       "</style>\n",
       "<table border=\"1\" class=\"dataframe\">\n",
       "  <thead>\n",
       "    <tr style=\"text-align: right;\">\n",
       "      <th></th>\n",
       "      <th>Feature</th>\n",
       "      <th>F_value</th>\n",
       "      <th>p_value</th>\n",
       "    </tr>\n",
       "  </thead>\n",
       "  <tbody>\n",
       "    <tr>\n",
       "      <th>40</th>\n",
       "      <td>four_year_resale_value</td>\n",
       "      <td>46.240179</td>\n",
       "      <td>0.00000</td>\n",
       "    </tr>\n",
       "    <tr>\n",
       "      <th>35</th>\n",
       "      <td>Power_perf_factor</td>\n",
       "      <td>38.736106</td>\n",
       "      <td>0.00000</td>\n",
       "    </tr>\n",
       "    <tr>\n",
       "      <th>36</th>\n",
       "      <td>Price_in_thousands</td>\n",
       "      <td>77.830710</td>\n",
       "      <td>0.00000</td>\n",
       "    </tr>\n",
       "    <tr>\n",
       "      <th>4</th>\n",
       "      <td>Horsepower</td>\n",
       "      <td>29.616745</td>\n",
       "      <td>0.00000</td>\n",
       "    </tr>\n",
       "    <tr>\n",
       "      <th>13</th>\n",
       "      <td>Manufacturer_Ford</td>\n",
       "      <td>21.061447</td>\n",
       "      <td>0.00001</td>\n",
       "    </tr>\n",
       "    <tr>\n",
       "      <th>37</th>\n",
       "      <td>Vehicle_type_Passenger</td>\n",
       "      <td>12.462157</td>\n",
       "      <td>0.00055</td>\n",
       "    </tr>\n",
       "    <tr>\n",
       "      <th>38</th>\n",
       "      <td>Wheelbase</td>\n",
       "      <td>12.207817</td>\n",
       "      <td>0.00062</td>\n",
       "    </tr>\n",
       "    <tr>\n",
       "      <th>28</th>\n",
       "      <td>Manufacturer_Porsche</td>\n",
       "      <td>10.653178</td>\n",
       "      <td>0.00135</td>\n",
       "    </tr>\n",
       "    <tr>\n",
       "      <th>21</th>\n",
       "      <td>Manufacturer_Mercedes_B</td>\n",
       "      <td>9.878573</td>\n",
       "      <td>0.00200</td>\n",
       "    </tr>\n",
       "    <tr>\n",
       "      <th>5</th>\n",
       "      <td>Length</td>\n",
       "      <td>6.954753</td>\n",
       "      <td>0.00921</td>\n",
       "    </tr>\n",
       "    <tr>\n",
       "      <th>34</th>\n",
       "      <td>Manufacturer_Volvo</td>\n",
       "      <td>3.934501</td>\n",
       "      <td>0.04907</td>\n",
       "    </tr>\n",
       "    <tr>\n",
       "      <th>14</th>\n",
       "      <td>Manufacturer_Honda</td>\n",
       "      <td>3.852349</td>\n",
       "      <td>0.05147</td>\n",
       "    </tr>\n",
       "    <tr>\n",
       "      <th>32</th>\n",
       "      <td>Manufacturer_Toyota</td>\n",
       "      <td>3.417935</td>\n",
       "      <td>0.06640</td>\n",
       "    </tr>\n",
       "    <tr>\n",
       "      <th>26</th>\n",
       "      <td>Manufacturer_Plymouth</td>\n",
       "      <td>2.971046</td>\n",
       "      <td>0.08676</td>\n",
       "    </tr>\n",
       "    <tr>\n",
       "      <th>3</th>\n",
       "      <td>Fuel_efficiency</td>\n",
       "      <td>2.877548</td>\n",
       "      <td>0.09183</td>\n",
       "    </tr>\n",
       "    <tr>\n",
       "      <th>6</th>\n",
       "      <td>Manufacturer_Audi</td>\n",
       "      <td>2.874313</td>\n",
       "      <td>0.09201</td>\n",
       "    </tr>\n",
       "    <tr>\n",
       "      <th>18</th>\n",
       "      <td>Manufacturer_Jeep</td>\n",
       "      <td>2.724204</td>\n",
       "      <td>0.10086</td>\n",
       "    </tr>\n",
       "    <tr>\n",
       "      <th>19</th>\n",
       "      <td>Manufacturer_Lexus</td>\n",
       "      <td>2.648214</td>\n",
       "      <td>0.10570</td>\n",
       "    </tr>\n",
       "    <tr>\n",
       "      <th>1</th>\n",
       "      <td>Engine_size</td>\n",
       "      <td>2.302434</td>\n",
       "      <td>0.13121</td>\n",
       "    </tr>\n",
       "    <tr>\n",
       "      <th>24</th>\n",
       "      <td>Manufacturer_Nissan</td>\n",
       "      <td>2.097272</td>\n",
       "      <td>0.14958</td>\n",
       "    </tr>\n",
       "    <tr>\n",
       "      <th>23</th>\n",
       "      <td>Manufacturer_Mitsubishi</td>\n",
       "      <td>1.764003</td>\n",
       "      <td>0.18608</td>\n",
       "    </tr>\n",
       "    <tr>\n",
       "      <th>27</th>\n",
       "      <td>Manufacturer_Pontiac</td>\n",
       "      <td>1.555669</td>\n",
       "      <td>0.21418</td>\n",
       "    </tr>\n",
       "    <tr>\n",
       "      <th>10</th>\n",
       "      <td>Manufacturer_Chevrolet</td>\n",
       "      <td>1.509316</td>\n",
       "      <td>0.22111</td>\n",
       "    </tr>\n",
       "    <tr>\n",
       "      <th>12</th>\n",
       "      <td>Manufacturer_Dodge</td>\n",
       "      <td>1.207264</td>\n",
       "      <td>0.27358</td>\n",
       "    </tr>\n",
       "    <tr>\n",
       "      <th>8</th>\n",
       "      <td>Manufacturer_Buick</td>\n",
       "      <td>1.196073</td>\n",
       "      <td>0.27580</td>\n",
       "    </tr>\n",
       "    <tr>\n",
       "      <th>29</th>\n",
       "      <td>Manufacturer_Saab</td>\n",
       "      <td>1.147946</td>\n",
       "      <td>0.28564</td>\n",
       "    </tr>\n",
       "    <tr>\n",
       "      <th>9</th>\n",
       "      <td>Manufacturer_Cadillac</td>\n",
       "      <td>0.887999</td>\n",
       "      <td>0.34749</td>\n",
       "    </tr>\n",
       "    <tr>\n",
       "      <th>25</th>\n",
       "      <td>Manufacturer_Oldsmobile</td>\n",
       "      <td>0.859196</td>\n",
       "      <td>0.35540</td>\n",
       "    </tr>\n",
       "    <tr>\n",
       "      <th>7</th>\n",
       "      <td>Manufacturer_BMW</td>\n",
       "      <td>0.726643</td>\n",
       "      <td>0.39529</td>\n",
       "    </tr>\n",
       "    <tr>\n",
       "      <th>0</th>\n",
       "      <td>Curb_weight</td>\n",
       "      <td>0.418695</td>\n",
       "      <td>0.51855</td>\n",
       "    </tr>\n",
       "    <tr>\n",
       "      <th>15</th>\n",
       "      <td>Manufacturer_Hyundai</td>\n",
       "      <td>0.409934</td>\n",
       "      <td>0.52295</td>\n",
       "    </tr>\n",
       "    <tr>\n",
       "      <th>39</th>\n",
       "      <td>Width</td>\n",
       "      <td>0.227812</td>\n",
       "      <td>0.63382</td>\n",
       "    </tr>\n",
       "    <tr>\n",
       "      <th>17</th>\n",
       "      <td>Manufacturer_Jaguar</td>\n",
       "      <td>0.201879</td>\n",
       "      <td>0.65384</td>\n",
       "    </tr>\n",
       "    <tr>\n",
       "      <th>30</th>\n",
       "      <td>Manufacturer_Saturn</td>\n",
       "      <td>0.196141</td>\n",
       "      <td>0.65847</td>\n",
       "    </tr>\n",
       "    <tr>\n",
       "      <th>33</th>\n",
       "      <td>Manufacturer_Volkswagen</td>\n",
       "      <td>0.185193</td>\n",
       "      <td>0.66755</td>\n",
       "    </tr>\n",
       "    <tr>\n",
       "      <th>31</th>\n",
       "      <td>Manufacturer_Subaru</td>\n",
       "      <td>0.173894</td>\n",
       "      <td>0.67725</td>\n",
       "    </tr>\n",
       "    <tr>\n",
       "      <th>22</th>\n",
       "      <td>Manufacturer_Mercury</td>\n",
       "      <td>0.122425</td>\n",
       "      <td>0.72689</td>\n",
       "    </tr>\n",
       "    <tr>\n",
       "      <th>2</th>\n",
       "      <td>Fuel_capacity</td>\n",
       "      <td>0.059260</td>\n",
       "      <td>0.80799</td>\n",
       "    </tr>\n",
       "    <tr>\n",
       "      <th>11</th>\n",
       "      <td>Manufacturer_Chrysler</td>\n",
       "      <td>0.041308</td>\n",
       "      <td>0.83921</td>\n",
       "    </tr>\n",
       "    <tr>\n",
       "      <th>20</th>\n",
       "      <td>Manufacturer_Lincoln</td>\n",
       "      <td>0.015174</td>\n",
       "      <td>0.90212</td>\n",
       "    </tr>\n",
       "    <tr>\n",
       "      <th>16</th>\n",
       "      <td>Manufacturer_Infiniti</td>\n",
       "      <td>0.012097</td>\n",
       "      <td>0.91256</td>\n",
       "    </tr>\n",
       "  </tbody>\n",
       "</table>\n",
       "</div>"
      ],
      "text/plain": [
       "                    Feature    F_value  p_value\n",
       "40   four_year_resale_value  46.240179  0.00000\n",
       "35        Power_perf_factor  38.736106  0.00000\n",
       "36       Price_in_thousands  77.830710  0.00000\n",
       "4                Horsepower  29.616745  0.00000\n",
       "13        Manufacturer_Ford  21.061447  0.00001\n",
       "37   Vehicle_type_Passenger  12.462157  0.00055\n",
       "38                Wheelbase  12.207817  0.00062\n",
       "28     Manufacturer_Porsche  10.653178  0.00135\n",
       "21  Manufacturer_Mercedes_B   9.878573  0.00200\n",
       "5                    Length   6.954753  0.00921\n",
       "34       Manufacturer_Volvo   3.934501  0.04907\n",
       "14       Manufacturer_Honda   3.852349  0.05147\n",
       "32      Manufacturer_Toyota   3.417935  0.06640\n",
       "26    Manufacturer_Plymouth   2.971046  0.08676\n",
       "3           Fuel_efficiency   2.877548  0.09183\n",
       "6         Manufacturer_Audi   2.874313  0.09201\n",
       "18        Manufacturer_Jeep   2.724204  0.10086\n",
       "19       Manufacturer_Lexus   2.648214  0.10570\n",
       "1               Engine_size   2.302434  0.13121\n",
       "24      Manufacturer_Nissan   2.097272  0.14958\n",
       "23  Manufacturer_Mitsubishi   1.764003  0.18608\n",
       "27     Manufacturer_Pontiac   1.555669  0.21418\n",
       "10   Manufacturer_Chevrolet   1.509316  0.22111\n",
       "12       Manufacturer_Dodge   1.207264  0.27358\n",
       "8        Manufacturer_Buick   1.196073  0.27580\n",
       "29        Manufacturer_Saab   1.147946  0.28564\n",
       "9     Manufacturer_Cadillac   0.887999  0.34749\n",
       "25  Manufacturer_Oldsmobile   0.859196  0.35540\n",
       "7          Manufacturer_BMW   0.726643  0.39529\n",
       "0               Curb_weight   0.418695  0.51855\n",
       "15     Manufacturer_Hyundai   0.409934  0.52295\n",
       "39                    Width   0.227812  0.63382\n",
       "17      Manufacturer_Jaguar   0.201879  0.65384\n",
       "30      Manufacturer_Saturn   0.196141  0.65847\n",
       "33  Manufacturer_Volkswagen   0.185193  0.66755\n",
       "31      Manufacturer_Subaru   0.173894  0.67725\n",
       "22     Manufacturer_Mercury   0.122425  0.72689\n",
       "2             Fuel_capacity   0.059260  0.80799\n",
       "11    Manufacturer_Chrysler   0.041308  0.83921\n",
       "20     Manufacturer_Lincoln   0.015174  0.90212\n",
       "16    Manufacturer_Infiniti   0.012097  0.91256"
      ]
     },
     "execution_count": 184,
     "metadata": {},
     "output_type": "execute_result"
    }
   ],
   "source": [
    "F_Regression_results.sort_values(by  = 'p_value')"
   ]
  },
  {
   "cell_type": "code",
   "execution_count": 116,
   "metadata": {
    "scrolled": false
   },
   "outputs": [],
   "source": [
    "# Filter the data where p is <= 0.1\n",
    "Features = list(F_Regression_results.loc[ F_Regression_results.p_value <= 0.1, 'Feature' ])"
   ]
  },
  {
   "cell_type": "code",
   "execution_count": 117,
   "metadata": {
    "scrolled": true
   },
   "outputs": [
    {
     "data": {
      "text/plain": [
       "['Fuel_efficiency',\n",
       " 'Horsepower',\n",
       " 'Length',\n",
       " 'Manufacturer_Audi',\n",
       " 'Manufacturer_Ford',\n",
       " 'Manufacturer_Honda',\n",
       " 'Manufacturer_Mercedes_B',\n",
       " 'Manufacturer_Plymouth',\n",
       " 'Manufacturer_Porsche',\n",
       " 'Manufacturer_Toyota',\n",
       " 'Manufacturer_Volvo',\n",
       " 'Power_perf_factor',\n",
       " 'Price_in_thousands',\n",
       " 'Vehicle_type_Passenger',\n",
       " 'Wheelbase',\n",
       " 'four_year_resale_value']"
      ]
     },
     "execution_count": 117,
     "metadata": {},
     "output_type": "execute_result"
    }
   ],
   "source": [
    "Features"
   ]
  },
  {
   "cell_type": "markdown",
   "metadata": {},
   "source": [
    "### Remove the multi colinear variables - VIF"
   ]
  },
  {
   "cell_type": "code",
   "execution_count": 131,
   "metadata": {},
   "outputs": [],
   "source": [
    "# import the packages for vif - Variance Inflation factor\n",
    "from statsmodels.stats.outliers_influence import variance_inflation_factor\n",
    "from patsy import dmatrices"
   ]
  },
  {
   "cell_type": "code",
   "execution_count": 137,
   "metadata": {},
   "outputs": [],
   "source": [
    "model_param = 'ln_sales_in_thousands ~ ' + ' + '.join(Features)"
   ]
  },
  {
   "cell_type": "code",
   "execution_count": 138,
   "metadata": {},
   "outputs": [
    {
     "data": {
      "text/plain": [
       "'ln_sales_in_thousands ~ Fuel_efficiency + Horsepower + Length + Manufacturer_Audi + Manufacturer_Ford + Manufacturer_Honda + Manufacturer_Mercedes_B + Manufacturer_Plymouth + Manufacturer_Porsche + Manufacturer_Toyota + Manufacturer_Volvo + Power_perf_factor + Price_in_thousands + Vehicle_type_Passenger + Wheelbase + four_year_resale_value'"
      ]
     },
     "execution_count": 138,
     "metadata": {},
     "output_type": "execute_result"
    }
   ],
   "source": [
    "model_param"
   ]
  },
  {
   "cell_type": "code",
   "execution_count": 157,
   "metadata": {},
   "outputs": [],
   "source": [
    "model_param = ''' ln_sales_in_thousands ~ Fuel_efficiency + Length + \n",
    "            Manufacturer_Audi + Manufacturer_Ford + Manufacturer_Honda + Manufacturer_Mercedes_B + \n",
    "            Manufacturer_Plymouth + Manufacturer_Porsche + Manufacturer_Toyota + \n",
    "            Manufacturer_Volvo + Price_in_thousands + \n",
    "            Vehicle_type_Passenger'''"
   ]
  },
  {
   "cell_type": "code",
   "execution_count": 158,
   "metadata": {},
   "outputs": [],
   "source": [
    "# High VIF of the variable means information in that variable has already been explained by \n",
    "# other X variables present in the model\n",
    "\n",
    "# separate the Y and X variables\n",
    "y, X = dmatrices(model_param, cars_new, return_type = 'dataframe')"
   ]
  },
  {
   "cell_type": "code",
   "execution_count": 159,
   "metadata": {},
   "outputs": [
    {
     "data": {
      "text/html": [
       "<div>\n",
       "<style scoped>\n",
       "    .dataframe tbody tr th:only-of-type {\n",
       "        vertical-align: middle;\n",
       "    }\n",
       "\n",
       "    .dataframe tbody tr th {\n",
       "        vertical-align: top;\n",
       "    }\n",
       "\n",
       "    .dataframe thead th {\n",
       "        text-align: right;\n",
       "    }\n",
       "</style>\n",
       "<table border=\"1\" class=\"dataframe\">\n",
       "  <thead>\n",
       "    <tr style=\"text-align: right;\">\n",
       "      <th></th>\n",
       "      <th>Features</th>\n",
       "      <th>VIF Factor</th>\n",
       "    </tr>\n",
       "  </thead>\n",
       "  <tbody>\n",
       "    <tr>\n",
       "      <th>0</th>\n",
       "      <td>Intercept</td>\n",
       "      <td>568.593937</td>\n",
       "    </tr>\n",
       "    <tr>\n",
       "      <th>1</th>\n",
       "      <td>Fuel_efficiency</td>\n",
       "      <td>4.016468</td>\n",
       "    </tr>\n",
       "    <tr>\n",
       "      <th>2</th>\n",
       "      <td>Length</td>\n",
       "      <td>1.438255</td>\n",
       "    </tr>\n",
       "    <tr>\n",
       "      <th>3</th>\n",
       "      <td>Manufacturer_Audi</td>\n",
       "      <td>1.056253</td>\n",
       "    </tr>\n",
       "    <tr>\n",
       "      <th>4</th>\n",
       "      <td>Manufacturer_Ford</td>\n",
       "      <td>1.081124</td>\n",
       "    </tr>\n",
       "    <tr>\n",
       "      <th>5</th>\n",
       "      <td>Manufacturer_Honda</td>\n",
       "      <td>1.085457</td>\n",
       "    </tr>\n",
       "    <tr>\n",
       "      <th>6</th>\n",
       "      <td>Manufacturer_Mercedes_B</td>\n",
       "      <td>1.603515</td>\n",
       "    </tr>\n",
       "    <tr>\n",
       "      <th>7</th>\n",
       "      <td>Manufacturer_Plymouth</td>\n",
       "      <td>1.031573</td>\n",
       "    </tr>\n",
       "    <tr>\n",
       "      <th>8</th>\n",
       "      <td>Manufacturer_Porsche</td>\n",
       "      <td>1.380634</td>\n",
       "    </tr>\n",
       "    <tr>\n",
       "      <th>9</th>\n",
       "      <td>Manufacturer_Toyota</td>\n",
       "      <td>1.150305</td>\n",
       "    </tr>\n",
       "    <tr>\n",
       "      <th>10</th>\n",
       "      <td>Manufacturer_Volvo</td>\n",
       "      <td>1.052864</td>\n",
       "    </tr>\n",
       "    <tr>\n",
       "      <th>11</th>\n",
       "      <td>Price_in_thousands</td>\n",
       "      <td>3.182066</td>\n",
       "    </tr>\n",
       "    <tr>\n",
       "      <th>12</th>\n",
       "      <td>Vehicle_type_Passenger</td>\n",
       "      <td>2.614835</td>\n",
       "    </tr>\n",
       "  </tbody>\n",
       "</table>\n",
       "</div>"
      ],
      "text/plain": [
       "                   Features  VIF Factor\n",
       "0                 Intercept  568.593937\n",
       "1           Fuel_efficiency    4.016468\n",
       "2                    Length    1.438255\n",
       "3         Manufacturer_Audi    1.056253\n",
       "4         Manufacturer_Ford    1.081124\n",
       "5        Manufacturer_Honda    1.085457\n",
       "6   Manufacturer_Mercedes_B    1.603515\n",
       "7     Manufacturer_Plymouth    1.031573\n",
       "8      Manufacturer_Porsche    1.380634\n",
       "9       Manufacturer_Toyota    1.150305\n",
       "10       Manufacturer_Volvo    1.052864\n",
       "11       Price_in_thousands    3.182066\n",
       "12   Vehicle_type_Passenger    2.614835"
      ]
     },
     "execution_count": 159,
     "metadata": {},
     "output_type": "execute_result"
    }
   ],
   "source": [
    "# For each X, calculate VIF and save in dataframe\n",
    "vif = pd.DataFrame()\n",
    "vif['Features'] = X.columns\n",
    "vif['VIF Factor'] = [variance_inflation_factor(X.values, i) for i in range(X.shape[1])]\n",
    "vif"
   ]
  },
  {
   "cell_type": "code",
   "execution_count": 160,
   "metadata": {},
   "outputs": [],
   "source": [
    "Features = list(vif.loc[ vif.Features != 'Intercept', 'Features'])"
   ]
  },
  {
   "cell_type": "code",
   "execution_count": 161,
   "metadata": {},
   "outputs": [
    {
     "data": {
      "text/plain": [
       "['Fuel_efficiency',\n",
       " 'Length',\n",
       " 'Manufacturer_Audi',\n",
       " 'Manufacturer_Ford',\n",
       " 'Manufacturer_Honda',\n",
       " 'Manufacturer_Mercedes_B',\n",
       " 'Manufacturer_Plymouth',\n",
       " 'Manufacturer_Porsche',\n",
       " 'Manufacturer_Toyota',\n",
       " 'Manufacturer_Volvo',\n",
       " 'Price_in_thousands',\n",
       " 'Vehicle_type_Passenger']"
      ]
     },
     "execution_count": 161,
     "metadata": {},
     "output_type": "execute_result"
    }
   ],
   "source": [
    "Features"
   ]
  },
  {
   "cell_type": "markdown",
   "metadata": {},
   "source": [
    "### split the data for model building"
   ]
  },
  {
   "cell_type": "code",
   "execution_count": 162,
   "metadata": {},
   "outputs": [],
   "source": [
    "# method 1: divide the data into training and testing for smf\n",
    "train, test = train_test_split(cars_new, test_size = 0.3, random_state = 1)"
   ]
  },
  {
   "cell_type": "code",
   "execution_count": 163,
   "metadata": {},
   "outputs": [],
   "source": [
    "# method 2: divide the data into training and testing and separate out Y and X variables\n",
    "# this will be used in sklearn related functions\n",
    "train_X, test_X, train_y, test_y = train_test_split(cars_new[Features], \n",
    "            cars_new['ln_sales_in_thousands'], test_size = 0.3, random_state = 12345)"
   ]
  },
  {
   "cell_type": "code",
   "execution_count": 164,
   "metadata": {},
   "outputs": [
    {
     "name": "stdout",
     "output_type": "stream",
     "text": [
      "No of obs in training:  109  |  No of obs in testing:  48\n"
     ]
    }
   ],
   "source": [
    "# verify the no of obs in training and testing after split\n",
    "print('No of obs in training: ', len(train), ' | ', 'No of obs in testing: ', len(test))"
   ]
  },
  {
   "cell_type": "markdown",
   "metadata": {},
   "source": [
    "## Form of linear regression\n",
    "\n",
    "$y = \\beta_0 + \\beta_1x_1 + \\beta_2x_2 + ... + \\beta_nx_n$\n",
    "\n",
    "- $y$ is the response\n",
    "- $\\beta_0$ is the intercept\n",
    "- $\\beta_1$ is the coefficient for $x_1$ (the first feature)\n",
    "- $\\beta_n$ is the coefficient for $x_n$ (the nth feature)\n",
    "\n",
    "The $\\beta$ values are called the **model coefficients**:\n",
    "\n",
    "- These values are estimated (or \"learned\") during the model fitting process using the **least squares criterion**.\n",
    "- Specifically, we are find the line (mathematically) which minimizes the **sum of squared residuals** (or \"sum of squared errors\").\n",
    "- And once we've learned these coefficients, we can use the model to predict the response."
   ]
  },
  {
   "cell_type": "markdown",
   "metadata": {},
   "source": [
    "### building a linear regression model"
   ]
  },
  {
   "cell_type": "raw",
   "metadata": {},
   "source": [
    "Steps for model building:\n",
    "------------------------------------------------------------------\n",
    "Step 1: lm = smf.ols('y~x1+x2+x3...xn', data = train) # defining Y and X with classs\n",
    "\n",
    "Step 2: lm.fit()     # building model (estimating the betas)\n",
    "\n",
    "Step 3: lm.summary() # get the output summary of the model\n",
    "\n",
    "Step 4: lm.predict(train) # predict the sales on the training data\n",
    "\n",
    "Step 5: lm.predict(test) # predict the sales on the testing/validation data\n",
    "\n",
    "Step 6: test the accuracy of the model\n",
    "    a.  MAPE: Mean Absolute Percentage Error\n",
    "    b.  RMSE: Root Mean Square Error\n",
    "    c.  Corelation between actual and predicted\n",
    "    d.  Decile analysis: for validation of models - Business validation"
   ]
  },
  {
   "cell_type": "code",
   "execution_count": 165,
   "metadata": {},
   "outputs": [],
   "source": [
    "import statsmodels.formula.api as smf\n",
    "from sklearn.metrics import mean_squared_error, mean_absolute_error"
   ]
  },
  {
   "cell_type": "markdown",
   "metadata": {},
   "source": [
    "## Modeling Steps"
   ]
  },
  {
   "cell_type": "code",
   "execution_count": 166,
   "metadata": {},
   "outputs": [],
   "source": [
    "# smf.ols(' y ~ x1 + x2 + x3 + .... + xn', train )"
   ]
  },
  {
   "cell_type": "code",
   "execution_count": 167,
   "metadata": {},
   "outputs": [
    {
     "data": {
      "text/plain": [
       "['Fuel_efficiency',\n",
       " 'Length',\n",
       " 'Manufacturer_Audi',\n",
       " 'Manufacturer_Ford',\n",
       " 'Manufacturer_Honda',\n",
       " 'Manufacturer_Mercedes_B',\n",
       " 'Manufacturer_Plymouth',\n",
       " 'Manufacturer_Porsche',\n",
       " 'Manufacturer_Toyota',\n",
       " 'Manufacturer_Volvo',\n",
       " 'Price_in_thousands',\n",
       " 'Vehicle_type_Passenger']"
      ]
     },
     "execution_count": 167,
     "metadata": {},
     "output_type": "execute_result"
    }
   ],
   "source": [
    "Features"
   ]
  },
  {
   "cell_type": "code",
   "execution_count": 168,
   "metadata": {},
   "outputs": [],
   "source": [
    "formula_m0 = 'ln_sales_in_thousands ~ ' + ' + '.join( Features )"
   ]
  },
  {
   "cell_type": "code",
   "execution_count": 178,
   "metadata": {},
   "outputs": [],
   "source": [
    "formula_m0 = ''' ln_sales_in_thousands ~ Fuel_efficiency + Length + \n",
    "            Manufacturer_Ford  + \n",
    "            Manufacturer_Plymouth + \n",
    "             Price_in_thousands + Vehicle_type_Passenger'''"
   ]
  },
  {
   "cell_type": "code",
   "execution_count": 179,
   "metadata": {},
   "outputs": [],
   "source": [
    "lm0 = smf.ols( formula_m0, train ).fit()"
   ]
  },
  {
   "cell_type": "code",
   "execution_count": 180,
   "metadata": {},
   "outputs": [
    {
     "name": "stdout",
     "output_type": "stream",
     "text": [
      "                              OLS Regression Results                             \n",
      "=================================================================================\n",
      "Dep. Variable:     ln_sales_in_thousands   R-squared:                       0.513\n",
      "Model:                               OLS   Adj. R-squared:                  0.484\n",
      "Method:                    Least Squares   F-statistic:                     17.91\n",
      "Date:                   Sat, 21 Mar 2020   Prob (F-statistic):           4.33e-14\n",
      "Time:                           17:37:41   Log-Likelihood:                -139.01\n",
      "No. Observations:                    109   AIC:                             292.0\n",
      "Df Residuals:                        102   BIC:                             310.9\n",
      "Df Model:                              6                                         \n",
      "Covariance Type:               nonrobust                                         \n",
      "==========================================================================================\n",
      "                             coef    std err          t      P>|t|      [0.025      0.975]\n",
      "------------------------------------------------------------------------------------------\n",
      "Intercept                 -2.1575      1.999     -1.079      0.283      -6.122       1.807\n",
      "Fuel_efficiency            0.0837      0.040      2.107      0.038       0.005       0.163\n",
      "Length                     0.0279      0.008      3.650      0.000       0.013       0.043\n",
      "Manufacturer_Ford          1.1723      0.356      3.295      0.001       0.467       1.878\n",
      "Manufacturer_Plymouth     -1.0824      0.532     -2.033      0.045      -2.139      -0.026\n",
      "Price_in_thousands        -0.0429      0.009     -4.799      0.000      -0.061      -0.025\n",
      "Vehicle_type_Passenger    -0.9264      0.305     -3.033      0.003      -1.532      -0.321\n",
      "==============================================================================\n",
      "Omnibus:                       17.255   Durbin-Watson:                   2.289\n",
      "Prob(Omnibus):                  0.000   Jarque-Bera (JB):               24.060\n",
      "Skew:                          -0.782   Prob(JB):                     5.96e-06\n",
      "Kurtosis:                       4.689   Cond. No.                     4.43e+03\n",
      "==============================================================================\n",
      "\n",
      "Warnings:\n",
      "[1] Standard Errors assume that the covariance matrix of the errors is correctly specified.\n",
      "[2] The condition number is large, 4.43e+03. This might indicate that there are\n",
      "strong multicollinearity or other numerical problems.\n"
     ]
    }
   ],
   "source": [
    "print(lm0.summary())"
   ]
  },
  {
   "cell_type": "markdown",
   "metadata": {},
   "source": [
    "*******************************************************************************************\n",
    "\n",
    "# Start from here\n",
    "\n",
    "*******************************************************************************************"
   ]
  },
  {
   "cell_type": "markdown",
   "metadata": {},
   "source": [
    "### Predict the values"
   ]
  },
  {
   "cell_type": "code",
   "execution_count": 175,
   "metadata": {
    "scrolled": true
   },
   "outputs": [],
   "source": [
    "# Step 4: predict the sales on the training data\n",
    "train.loc[:, 'pred_sales'] = np.exp( lm0.predict(train) )"
   ]
  },
  {
   "cell_type": "code",
   "execution_count": 181,
   "metadata": {
    "scrolled": true
   },
   "outputs": [],
   "source": [
    "# Step 5: predict the sales on the testing/validation data\n",
    "test.loc[:, 'pred_sales'] = np.exp( lm0.predict(test) )"
   ]
  },
  {
   "cell_type": "markdown",
   "metadata": {},
   "source": [
    "### model validation - for accuracies after predictions"
   ]
  },
  {
   "cell_type": "code",
   "execution_count": null,
   "metadata": {},
   "outputs": [],
   "source": [
    "from sklearn.metrics import mean_absolute_error, mean_squared_error"
   ]
  },
  {
   "cell_type": "code",
   "execution_count": 185,
   "metadata": {},
   "outputs": [],
   "source": [
    "# Step 6: \n",
    "# MAPE: Mean Absolute Percentage Error\n",
    "# RMSE: Root Mean Square Error\n",
    "# Decile analysis: for validation of models - Business validation"
   ]
  },
  {
   "cell_type": "code",
   "execution_count": 186,
   "metadata": {},
   "outputs": [
    {
     "name": "stdout",
     "output_type": "stream",
     "text": [
      "MAE of training data:  28.894096864033813  |  MAE of testing data:  35.95525054277123\n"
     ]
    }
   ],
   "source": [
    "# a) accuracy metrics (a. MAE: Mean Absolute Error)\n",
    "MAE_train = mean_absolute_error(train.Sales_in_thousands, train.pred_sales)\n",
    "MAE_test = mean_absolute_error(test.Sales_in_thousands, test.pred_sales)\n",
    "\n",
    "# print the values of MAE for train and test\n",
    "print('MAE of training data: ', MAE_train,  ' | ', 'MAE of testing data: ', MAE_test)"
   ]
  },
  {
   "cell_type": "code",
   "execution_count": 184,
   "metadata": {},
   "outputs": [
    {
     "name": "stdout",
     "output_type": "stream",
     "text": [
      "MAPE of training data:  1.133529625236131  |  MAPE of testing data:  0.7722052476912662\n"
     ]
    }
   ],
   "source": [
    "# Step 6: \n",
    "# b) accuracy metrics (a. MAPE: Mean Absolute Percentage Error)\n",
    "MAPE_train = np.mean(np.abs(train['Sales_in_thousands'] - train['pred_sales'])/train['Sales_in_thousands'])\n",
    "MAPE_test = np.mean(np.abs(test['Sales_in_thousands'] - test['pred_sales'])/test['Sales_in_thousands'])\n",
    "\n",
    "# print the values of MAPE for train and test\n",
    "print('MAPE of training data: ', MAPE_train,  ' | ', 'MAPE of testing data: ', MAPE_test)"
   ]
  },
  {
   "cell_type": "code",
   "execution_count": 188,
   "metadata": {},
   "outputs": [
    {
     "name": "stdout",
     "output_type": "stream",
     "text": [
      "MSE of training data:  2455.247147207944  |  MSE of testing data:  4302.981894260402\n",
      "RMSE of training data:  49.55045052477267  |  RMSE of testing data:  65.59711803319108\n"
     ]
    }
   ],
   "source": [
    "# Step 6: \n",
    "# c) MSE: Mean squared Error and RMSE: Root Mean Square Error\n",
    "MSE_train = mean_squared_error(train.Sales_in_thousands, train.pred_sales)\n",
    "MSE_test = mean_squared_error(test.Sales_in_thousands, test.pred_sales)\n",
    "\n",
    "# print the values of MSE for train and test\n",
    "print('MSE of training data: ', MSE_train,  ' | ', 'MSE of testing data: ', MSE_test)\n",
    "\n",
    "# print the values of RMSE for train and test\n",
    "print('RMSE of training data: ', np.sqrt(MSE_train),  ' | ', 'RMSE of testing data: ', np.sqrt(MSE_test))"
   ]
  },
  {
   "cell_type": "code",
   "execution_count": 189,
   "metadata": {},
   "outputs": [
    {
     "name": "stdout",
     "output_type": "stream",
     "text": [
      "Corr of training data:  (0.5865469802482524, 2.059049771564186e-11)  |  Corr of testing data:  (0.7175807474222512, 9.502483932963874e-09)\n"
     ]
    }
   ],
   "source": [
    "# Step 6: \n",
    "# d.1) Corelation between actual and predicted\n",
    "Corr_train = stats.pearsonr(train.Sales_in_thousands, train.pred_sales)\n",
    "Corr_test = stats.pearsonr(test.Sales_in_thousands, test.pred_sales)\n",
    "\n",
    "# print the values of Corelation for train and test\n",
    "print('Corr of training data: ', Corr_train,  ' | ', 'Corr of testing data: ', Corr_test)"
   ]
  },
  {
   "cell_type": "code",
   "execution_count": 190,
   "metadata": {},
   "outputs": [
    {
     "data": {
      "image/png": "[encoded data removed]",
      "text/plain": [
       "<Figure size 576x396 with 1 Axes>"
      ]
     },
     "metadata": {},
     "output_type": "display_data"
    },
    {
     "data": {
      "image/png": "[encoded data removed]",
      "text/plain": [
       "<Figure size 576x396 with 1 Axes>"
      ]
     },
     "metadata": {},
     "output_type": "display_data"
    }
   ],
   "source": [
    "# Step 6: \n",
    "# d.2) Corelation between actual and predicted\n",
    "sns.scatterplot(train.Sales_in_thousands, train.pred_sales)\n",
    "plt.show()\n",
    "\n",
    "sns.scatterplot(test.Sales_in_thousands, test.pred_sales)\n",
    "plt.show()"
   ]
  },
  {
   "cell_type": "code",
   "execution_count": 201,
   "metadata": {},
   "outputs": [
    {
     "name": "stderr",
     "output_type": "stream",
     "text": [
      "C:\\ProgramData\\Anaconda3\\lib\\site-packages\\pandas\\core\\indexing.py:543: SettingWithCopyWarning: \n",
      "A value is trying to be set on a copy of a slice from a DataFrame.\n",
      "Try using .loc[row_indexer,col_indexer] = value instead\n",
      "\n",
      "See the caveats in the documentation: http://pandas.pydata.org/pandas-docs/stable/indexing.html#indexing-view-versus-copy\n",
      "  self.obj[item] = s\n"
     ]
    }
   ],
   "source": [
    "# Step 6: \n",
    "# e) accuracy metrics (d. Decile Analysis: for validation of models - Business validation)\n",
    "\n",
    "# create the 10 groups in the data\n",
    "train.loc[:, 'Deciles'] = pd.qcut( train['pred_sales'], 10, labels = False )\n",
    "test.loc[:, 'Deciles'] = pd.qcut( test['pred_sales'], 10, labels = False )\n",
    "\n",
    "# Decile Analysis for train data\n",
    "Predicted_avg_train = train.groupby('Deciles')[['Sales_in_thousands', 'pred_sales']].mean().reset_index().sort_index(ascending = False)\n",
    "Predicted_avg_test = test.groupby('Deciles')[['Sales_in_thousands', 'pred_sales']].mean().reset_index().sort_index(ascending = False)\n",
    "\n",
    "# write the data into the file\n",
    "Predicted_avg_train.to_csv('Decile_analysis_train.csv')\n",
    "Predicted_avg_test.to_csv('Decile_analysis_test.csv')"
   ]
  },
  {
   "cell_type": "code",
   "execution_count": 202,
   "metadata": {},
   "outputs": [
    {
     "data": {
      "text/html": [
       "<div>\n",
       "<style scoped>\n",
       "    .dataframe tbody tr th:only-of-type {\n",
       "        vertical-align: middle;\n",
       "    }\n",
       "\n",
       "    .dataframe tbody tr th {\n",
       "        vertical-align: top;\n",
       "    }\n",
       "\n",
       "    .dataframe thead th {\n",
       "        text-align: right;\n",
       "    }\n",
       "</style>\n",
       "<table border=\"1\" class=\"dataframe\">\n",
       "  <thead>\n",
       "    <tr style=\"text-align: right;\">\n",
       "      <th></th>\n",
       "      <th>Deciles</th>\n",
       "      <th>Sales_in_thousands</th>\n",
       "      <th>pred_sales</th>\n",
       "    </tr>\n",
       "  </thead>\n",
       "  <tbody>\n",
       "    <tr>\n",
       "      <th>9</th>\n",
       "      <td>9</td>\n",
       "      <td>137.438029</td>\n",
       "      <td>137.067274</td>\n",
       "    </tr>\n",
       "    <tr>\n",
       "      <th>8</th>\n",
       "      <td>8</td>\n",
       "      <td>71.691545</td>\n",
       "      <td>61.675419</td>\n",
       "    </tr>\n",
       "    <tr>\n",
       "      <th>7</th>\n",
       "      <td>7</td>\n",
       "      <td>72.483182</td>\n",
       "      <td>47.005810</td>\n",
       "    </tr>\n",
       "    <tr>\n",
       "      <th>6</th>\n",
       "      <td>6</td>\n",
       "      <td>69.982273</td>\n",
       "      <td>37.744406</td>\n",
       "    </tr>\n",
       "    <tr>\n",
       "      <th>5</th>\n",
       "      <td>5</td>\n",
       "      <td>43.323800</td>\n",
       "      <td>31.011054</td>\n",
       "    </tr>\n",
       "    <tr>\n",
       "      <th>4</th>\n",
       "      <td>4</td>\n",
       "      <td>47.016636</td>\n",
       "      <td>27.217301</td>\n",
       "    </tr>\n",
       "    <tr>\n",
       "      <th>3</th>\n",
       "      <td>3</td>\n",
       "      <td>28.450636</td>\n",
       "      <td>21.707183</td>\n",
       "    </tr>\n",
       "    <tr>\n",
       "      <th>2</th>\n",
       "      <td>2</td>\n",
       "      <td>22.605091</td>\n",
       "      <td>16.455880</td>\n",
       "    </tr>\n",
       "    <tr>\n",
       "      <th>1</th>\n",
       "      <td>1</td>\n",
       "      <td>15.159844</td>\n",
       "      <td>11.740551</td>\n",
       "    </tr>\n",
       "    <tr>\n",
       "      <th>0</th>\n",
       "      <td>0</td>\n",
       "      <td>5.382364</td>\n",
       "      <td>4.969518</td>\n",
       "    </tr>\n",
       "  </tbody>\n",
       "</table>\n",
       "</div>"
      ],
      "text/plain": [
       "   Deciles  Sales_in_thousands  pred_sales\n",
       "9        9          137.438029  137.067274\n",
       "8        8           71.691545   61.675419\n",
       "7        7           72.483182   47.005810\n",
       "6        6           69.982273   37.744406\n",
       "5        5           43.323800   31.011054\n",
       "4        4           47.016636   27.217301\n",
       "3        3           28.450636   21.707183\n",
       "2        2           22.605091   16.455880\n",
       "1        1           15.159844   11.740551\n",
       "0        0            5.382364    4.969518"
      ]
     },
     "execution_count": 202,
     "metadata": {},
     "output_type": "execute_result"
    }
   ],
   "source": [
    "Predicted_avg_train"
   ]
  },
  {
   "cell_type": "code",
   "execution_count": 203,
   "metadata": {},
   "outputs": [
    {
     "data": {
      "text/html": [
       "<div>\n",
       "<style scoped>\n",
       "    .dataframe tbody tr th:only-of-type {\n",
       "        vertical-align: middle;\n",
       "    }\n",
       "\n",
       "    .dataframe tbody tr th {\n",
       "        vertical-align: top;\n",
       "    }\n",
       "\n",
       "    .dataframe thead th {\n",
       "        text-align: right;\n",
       "    }\n",
       "</style>\n",
       "<table border=\"1\" class=\"dataframe\">\n",
       "  <thead>\n",
       "    <tr style=\"text-align: right;\">\n",
       "      <th></th>\n",
       "      <th>Deciles</th>\n",
       "      <th>Sales_in_thousands</th>\n",
       "      <th>pred_sales</th>\n",
       "    </tr>\n",
       "  </thead>\n",
       "  <tbody>\n",
       "    <tr>\n",
       "      <th>9</th>\n",
       "      <td>9</td>\n",
       "      <td>138.627064</td>\n",
       "      <td>254.672958</td>\n",
       "    </tr>\n",
       "    <tr>\n",
       "      <th>8</th>\n",
       "      <td>8</td>\n",
       "      <td>44.391800</td>\n",
       "      <td>62.043022</td>\n",
       "    </tr>\n",
       "    <tr>\n",
       "      <th>7</th>\n",
       "      <td>7</td>\n",
       "      <td>38.684400</td>\n",
       "      <td>43.162606</td>\n",
       "    </tr>\n",
       "    <tr>\n",
       "      <th>6</th>\n",
       "      <td>6</td>\n",
       "      <td>84.836500</td>\n",
       "      <td>35.746035</td>\n",
       "    </tr>\n",
       "    <tr>\n",
       "      <th>5</th>\n",
       "      <td>5</td>\n",
       "      <td>44.885200</td>\n",
       "      <td>28.888661</td>\n",
       "    </tr>\n",
       "    <tr>\n",
       "      <th>4</th>\n",
       "      <td>4</td>\n",
       "      <td>65.761800</td>\n",
       "      <td>23.713561</td>\n",
       "    </tr>\n",
       "    <tr>\n",
       "      <th>3</th>\n",
       "      <td>3</td>\n",
       "      <td>34.845000</td>\n",
       "      <td>20.203901</td>\n",
       "    </tr>\n",
       "    <tr>\n",
       "      <th>2</th>\n",
       "      <td>2</td>\n",
       "      <td>27.975200</td>\n",
       "      <td>16.367561</td>\n",
       "    </tr>\n",
       "    <tr>\n",
       "      <th>1</th>\n",
       "      <td>1</td>\n",
       "      <td>19.941800</td>\n",
       "      <td>11.091881</td>\n",
       "    </tr>\n",
       "    <tr>\n",
       "      <th>0</th>\n",
       "      <td>0</td>\n",
       "      <td>7.984656</td>\n",
       "      <td>2.868208</td>\n",
       "    </tr>\n",
       "  </tbody>\n",
       "</table>\n",
       "</div>"
      ],
      "text/plain": [
       "   Deciles  Sales_in_thousands  pred_sales\n",
       "9        9          138.627064  254.672958\n",
       "8        8           44.391800   62.043022\n",
       "7        7           38.684400   43.162606\n",
       "6        6           84.836500   35.746035\n",
       "5        5           44.885200   28.888661\n",
       "4        4           65.761800   23.713561\n",
       "3        3           34.845000   20.203901\n",
       "2        2           27.975200   16.367561\n",
       "1        1           19.941800   11.091881\n",
       "0        0            7.984656    2.868208"
      ]
     },
     "execution_count": 203,
     "metadata": {},
     "output_type": "execute_result"
    }
   ],
   "source": [
    "Predicted_avg_test"
   ]
  },
  {
   "cell_type": "markdown",
   "metadata": {},
   "source": [
    "#### validate the poor model performance due of LM assumptions"
   ]
  },
  {
   "cell_type": "code",
   "execution_count": 205,
   "metadata": {
    "scrolled": true
   },
   "outputs": [
    {
     "data": {
      "image/png": "[encoded data removed]",
      "text/plain": [
       "<Figure size 576x396 with 1 Axes>"
      ]
     },
     "metadata": {},
     "output_type": "display_data"
    }
   ],
   "source": [
    "# assumption: Normality of the residuals/error (using distplot)\n",
    "sns.distplot(lm0.resid)\n",
    "plt.show()"
   ]
  },
  {
   "cell_type": "code",
   "execution_count": 206,
   "metadata": {},
   "outputs": [
    {
     "name": "stdout",
     "output_type": "stream",
     "text": [
      "2.1332578924540622e-14\n"
     ]
    }
   ],
   "source": [
    "# assumption: mean of residuals/errors is zero\n",
    "print(lm0.resid.mean())"
   ]
  },
  {
   "cell_type": "code",
   "execution_count": 211,
   "metadata": {},
   "outputs": [
    {
     "name": "stdout",
     "output_type": "stream",
     "text": [
      "(0.6886799858071819, 1.2713487518663198e-16)\n"
     ]
    }
   ],
   "source": [
    "# assumption: residuals/errors of the model should not be correlated with dependant (Y) variable\n",
    "print(stats.stats.pearsonr(lm0.resid, train.ln_sales_in_thousands))"
   ]
  },
  {
   "cell_type": "code",
   "execution_count": null,
   "metadata": {},
   "outputs": [],
   "source": []
  },
  {
   "cell_type": "code",
   "execution_count": 212,
   "metadata": {},
   "outputs": [
    {
     "data": {
      "image/png": "[encoded data removed]",
      "text/plain": [
       "<Figure size 576x396 with 1 Axes>"
      ]
     },
     "metadata": {},
     "output_type": "display_data"
    }
   ],
   "source": [
    "# assumption: homoscedasticity of residuals/errors\n",
    "sns.scatterplot(lm0.resid, train.ln_sales_in_thousands)\n",
    "plt.show()"
   ]
  },
  {
   "cell_type": "markdown",
   "metadata": {},
   "source": [
    "#### What can be the possible reasons for poor model performance?"
   ]
  },
  {
   "cell_type": "raw",
   "metadata": {},
   "source": [
    "1. Small sample \n",
    "2. Assumptions of linear/regression modelling are not true for the model in consideration\n",
    "2. Influential Observations (check this from QQ plot)"
   ]
  },
  {
   "cell_type": "markdown",
   "metadata": {},
   "source": [
    "### Tips/guidlines for imporvement of model accuracy"
   ]
  },
  {
   "cell_type": "raw",
   "metadata": {},
   "source": [
    "Possible reasons for model is not validating (over fitting)\n",
    "---------------------------------------------------------------------------------------------\n",
    "1. Data preparation problem (outliers, missings, variable conversions etc. not correct)\n",
    "2. not included right variables\n",
    "3. If the data have multicollinerity\n",
    "4. Including more number of variables \n",
    "5. Data size is very low  (ideally we should have 1varaible = 100 obs)\n",
    "6. The assumptions are not 100% valid\n",
    "7. The variables are not explaining completely\n",
    "\n",
    "How to over come this problem?\n",
    "--------------------------------------------------------------------------------------------\n",
    "1. Increase the data/sample size\n",
    "2. Change the variables - Reiterate the model with different combinations of variables\n",
    "3. Apply right transformations on X variables such the the linear relationship between Y & X will imrpvove\n",
    "4. Add dervied variables which can explain Y better\n",
    "5. Re look into data preparation steps\n",
    "6. Look at the importance of variables include them in the model\n",
    "7. Change the modelling technique\n",
    "\n",
    "******************\n",
    "There are few techniques can help you to identify important variables (Variable selection - Feature selection)\n",
    "* F-Regression\n",
    "* RFE (Recursive feature elimination) - Stepwise regression\n",
    "******************"
   ]
  },
  {
   "cell_type": "markdown",
   "metadata": {},
   "source": [
    "### Other Reading information"
   ]
  },
  {
   "cell_type": "markdown",
   "metadata": {},
   "source": [
    "### Feature selection\n",
    "\n",
    "How do we choose which features to include in the model? We're going to use **train/test split** (and eventually **cross-validation**).\n",
    "\n",
    "Why not use of **p-values** or **R-squared** for feature selection?\n",
    "\n",
    "- Linear models rely upon **a lot of assumptions** (such as the features being independent), and if those assumptions are violated, p-values and R-squared are less reliable. Train/test split relies on fewer assumptions.\n",
    "- Features that are unrelated to the response can still have **significant p-values**.\n",
    "- Adding features to your model that are unrelated to the response will always **increase the R-squared value**, and adjusted R-squared does not sufficiently account for this.\n",
    "- p-values and R-squared are **proxies** for our goal of generalization, whereas train/test split and cross-validation attempt to **directly estimate** how well the model will generalize to out-of-sample data.\n",
    "\n",
    "More generally:\n",
    "\n",
    "- There are different methodologies that can be used for solving any given data science problem, and this course follows a **machine learning methodology**.\n",
    "- This course focuses on **general purpose approaches** that can be applied to any model, rather than model-specific approaches."
   ]
  },
  {
   "cell_type": "markdown",
   "metadata": {},
   "source": [
    "### Evaluating Model Accuracy\n",
    "> R-squared is a statistical measure of how close the data are to the fitted regression line. <br>\n",
    "> R-square signifies percentage of variations in the reponse variable that can be explained by the model. <br>\n",
    "> - R-squared = Explained variation / Total variation <br>\n",
    "> - Total variation is variation of response variable around it's mean. <br>\n",
    "\n",
    "> R-squared value varies between 0 and 100%. 0% signifies that the model explains none of the variability, <br>\n",
    "while 100% signifies that the model explains all the variability of the response. <br>\n",
    "The closer the r-square to 100%, the better is the model. <br>"
   ]
  },
  {
   "cell_type": "markdown",
   "metadata": {},
   "source": [
    "## Other Evaluation metrics for regression problems\n",
    "\n",
    "Evaluation metrics for classification problems, such as **accuracy**, are not useful for regression problems. We need evaluation metrics designed for comparing **continuous values**.\n",
    "\n",
    "Here are three common evaluation metrics for regression problems:\n",
    "\n",
    "**Mean Absolute Error** (MAE) is the mean of the absolute value of the errors:\n",
    "\n",
    "$$\\frac 1n\\sum_{i=1}^n|y_i-\\hat{y}_i|$$\n",
    "\n",
    "**Mean Squared Error** (MSE) is the mean of the squared errors:\n",
    "\n",
    "$$\\frac 1n\\sum_{i=1}^n(y_i-\\hat{y}_i)^2$$\n",
    "\n",
    "**Root Mean Squared Error** (RMSE) is the square root of the mean of the squared errors:\n",
    "\n",
    "$$\\sqrt{\\frac 1n\\sum_{i=1}^n(y_i-\\hat{y}_i)^2}$$"
   ]
  },
  {
   "cell_type": "markdown",
   "metadata": {},
   "source": [
    "## Comparing linear regression with other models\n",
    "\n",
    "Advantages of linear regression:\n",
    "\n",
    "- Simple to explain\n",
    "- Highly interpretable\n",
    "- Model training and prediction are fast\n",
    "- No tuning is required (excluding regularization)\n",
    "- Features don't need scaling\n",
    "- Can perform well with a small number of observations\n",
    "- Well-understood\n",
    "\n",
    "Disadvantages of linear regression:\n",
    "\n",
    "- Presumes a linear relationship between the features and the response\n",
    "- Performance is (generally) not competitive with the best supervised learning methods due to high bias\n",
    "- Can't automatically learn feature interactions"
   ]
  }
 ],
 "metadata": {
  "kernelspec": {
   "display_name": "Python 3",
   "language": "python",
   "name": "python3"
  },
  "language_info": {
   "codemirror_mode": {
    "name": "ipython",
    "version": 3
   },
   "file_extension": ".py",
   "mimetype": "text/x-python",
   "name": "python",
   "nbconvert_exporter": "python",
   "pygments_lexer": "ipython3",
   "version": "3.7.3"
  }
 },
 "nbformat": 4,
 "nbformat_minor": 1
}
